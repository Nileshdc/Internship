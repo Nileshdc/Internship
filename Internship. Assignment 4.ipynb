{
 "cells": [
  {
   "cell_type": "code",
   "execution_count": 2,
   "id": "b0fbc332",
   "metadata": {},
   "outputs": [
    {
     "name": "stdout",
     "output_type": "stream",
     "text": [
      "Collecting selenium\n",
      "  Downloading selenium-4.1.2-py3-none-any.whl (963 kB)\n",
      "Collecting trio-websocket~=0.9\n",
      "  Downloading trio_websocket-0.9.2-py3-none-any.whl (16 kB)\n",
      "Requirement already satisfied: urllib3[secure,socks]~=1.26 in c:\\users\\lko\\anaconda3\\lib\\site-packages (from selenium) (1.26.4)\n",
      "Collecting trio~=0.17\n",
      "  Downloading trio-0.20.0-py3-none-any.whl (359 kB)\n",
      "Requirement already satisfied: sniffio in c:\\users\\lko\\anaconda3\\lib\\site-packages (from trio~=0.17->selenium) (1.2.0)\n",
      "Requirement already satisfied: async-generator>=1.9 in c:\\users\\lko\\anaconda3\\lib\\site-packages (from trio~=0.17->selenium) (1.10)\n",
      "Requirement already satisfied: attrs>=19.2.0 in c:\\users\\lko\\anaconda3\\lib\\site-packages (from trio~=0.17->selenium) (20.3.0)\n",
      "Requirement already satisfied: sortedcontainers in c:\\users\\lko\\anaconda3\\lib\\site-packages (from trio~=0.17->selenium) (2.3.0)\n",
      "Collecting outcome\n",
      "  Downloading outcome-1.1.0-py2.py3-none-any.whl (9.7 kB)\n",
      "Requirement already satisfied: idna in c:\\users\\lko\\anaconda3\\lib\\site-packages (from trio~=0.17->selenium) (2.10)\n",
      "Requirement already satisfied: cffi>=1.14 in c:\\users\\lko\\anaconda3\\lib\\site-packages (from trio~=0.17->selenium) (1.14.5)\n",
      "Requirement already satisfied: pycparser in c:\\users\\lko\\anaconda3\\lib\\site-packages (from cffi>=1.14->trio~=0.17->selenium) (2.20)\n",
      "Collecting wsproto>=0.14\n",
      "  Downloading wsproto-1.1.0-py3-none-any.whl (24 kB)\n",
      "Requirement already satisfied: PySocks!=1.5.7,<2.0,>=1.5.6 in c:\\users\\lko\\anaconda3\\lib\\site-packages (from urllib3[secure,socks]~=1.26->selenium) (1.7.1)\n",
      "Requirement already satisfied: cryptography>=1.3.4 in c:\\users\\lko\\anaconda3\\lib\\site-packages (from urllib3[secure,socks]~=1.26->selenium) (3.4.7)\n",
      "Requirement already satisfied: pyOpenSSL>=0.14 in c:\\users\\lko\\anaconda3\\lib\\site-packages (from urllib3[secure,socks]~=1.26->selenium) (20.0.1)\n",
      "Requirement already satisfied: certifi in c:\\users\\lko\\anaconda3\\lib\\site-packages (from urllib3[secure,socks]~=1.26->selenium) (2020.12.5)\n",
      "Requirement already satisfied: six>=1.5.2 in c:\\users\\lko\\anaconda3\\lib\\site-packages (from pyOpenSSL>=0.14->urllib3[secure,socks]~=1.26->selenium) (1.15.0)\n",
      "Collecting h11<1,>=0.9.0\n",
      "  Downloading h11-0.13.0-py3-none-any.whl (58 kB)\n",
      "Installing collected packages: outcome, h11, wsproto, trio, trio-websocket, selenium\n",
      "Successfully installed h11-0.13.0 outcome-1.1.0 selenium-4.1.2 trio-0.20.0 trio-websocket-0.9.2 wsproto-1.1.0\n"
     ]
    }
   ],
   "source": [
    "!pip install selenium"
   ]
  },
  {
   "cell_type": "code",
   "execution_count": 4,
   "id": "c4ebd826",
   "metadata": {},
   "outputs": [],
   "source": [
    "import selenium\n",
    "from selenium import webdriver\n",
    "import pandas as pd\n",
    "import time\n"
   ]
  },
  {
   "cell_type": "code",
   "execution_count": 79,
   "id": "3755afdd",
   "metadata": {},
   "outputs": [],
   "source": [
    "def mostviewed_videos():\n",
    "    #URL template for accessing the website\n",
    "   url = 'https://en.wikipedia.org/wiki/List_of_most-viewed_YouTube_videos'\n"
   ]
  },
  {
   "cell_type": "code",
   "execution_count": 80,
   "id": "6501d48f",
   "metadata": {
    "scrolled": true
   },
   "outputs": [
    {
     "name": "stderr",
     "output_type": "stream",
     "text": [
      "<ipython-input-80-311fccbdc7ca>:1: DeprecationWarning: executable_path has been deprecated, please pass in a Service object\n",
      "  driver = webdriver.Chrome('Chromedriver.exe')\n"
     ]
    }
   ],
   "source": [
    "driver = webdriver.Chrome('Chromedriver.exe')\n"
   ]
  },
  {
   "cell_type": "code",
   "execution_count": 81,
   "id": "f7cb08f8",
   "metadata": {},
   "outputs": [],
   "source": [
    "driver.get('https://en.wikipedia.org/wiki/List_of_most-viewed_YouTube_videos')"
   ]
  },
  {
   "cell_type": "code",
   "execution_count": 82,
   "id": "33bec1f7",
   "metadata": {},
   "outputs": [],
   "source": [
    "driver.maximize_window()"
   ]
  },
  {
   "cell_type": "code",
   "execution_count": 83,
   "id": "f8f74e96",
   "metadata": {
    "scrolled": true
   },
   "outputs": [
    {
     "name": "stderr",
     "output_type": "stream",
     "text": [
      "<ipython-input-83-b5184c1b80b9>:2: DeprecationWarning: find_elements_by_xpath is deprecated. Please use find_elements(by=By.XPATH, value=xpath) instead\n",
      "  for i in driver.find_elements_by_xpath(\"//table [@class = 'wikitable sortable jquery-tablesorter']/tbody/tr/td\"):\n"
     ]
    }
   ],
   "source": [
    "details = []\n",
    "for i in driver.find_elements_by_xpath(\"//table [@class = 'wikitable sortable jquery-tablesorter']/tbody/tr/td\"):\n",
    "        details.append(i.text)"
   ]
  },
  {
   "cell_type": "code",
   "execution_count": 84,
   "id": "98980052",
   "metadata": {},
   "outputs": [
    {
     "name": "stderr",
     "output_type": "stream",
     "text": [
      "<ipython-input-84-3d0102869f81>:2: DeprecationWarning: find_elements_by_xpath is deprecated. Please use find_elements(by=By.XPATH, value=xpath) instead\n",
      "  video=driver.find_elements_by_xpath(\"//table[@class='wikitable sortable jquery-tablesorter']/tbody/tr/td[2]\")\n"
     ]
    }
   ],
   "source": [
    "#Scrapping the details of the video name\n",
    "video=driver.find_elements_by_xpath(\"//table[@class='wikitable sortable jquery-tablesorter']/tbody/tr/td[2]\")\n",
    "for i in video[:30]:\n",
    "    Name.append(i.text)"
   ]
  },
  {
   "cell_type": "code",
   "execution_count": 86,
   "id": "2d93c821",
   "metadata": {},
   "outputs": [
    {
     "name": "stderr",
     "output_type": "stream",
     "text": [
      "<ipython-input-86-09e02d9e4331>:2: DeprecationWarning: find_elements_by_xpath is deprecated. Please use find_elements(by=By.XPATH, value=xpath) instead\n",
      "  artist=driver.find_elements_by_xpath(\"//table[@class='wikitable sortable jquery-tablesorter']/tbody/tr/td[3]\")\n"
     ]
    }
   ],
   "source": [
    "#Scrapping the details of the Artist name\n",
    "artist=driver.find_elements_by_xpath(\"//table[@class='wikitable sortable jquery-tablesorter']/tbody/tr/td[3]\")\n",
    "for i in artist[:30]:\n",
    "    Artist.append(i.text)"
   ]
  },
  {
   "cell_type": "code",
   "execution_count": 88,
   "id": "e7d778d5",
   "metadata": {},
   "outputs": [
    {
     "name": "stderr",
     "output_type": "stream",
     "text": [
      "<ipython-input-88-dae69b7cffda>:2: DeprecationWarning: find_elements_by_xpath is deprecated. Please use find_elements(by=By.XPATH, value=xpath) instead\n",
      "  views=driver.find_elements_by_xpath(\"//table[@class='wikitable sortable jquery-tablesorter']/tbody/tr/td[4]\")\n"
     ]
    }
   ],
   "source": [
    "#Scrapping the details of the views information\n",
    "views=driver.find_elements_by_xpath(\"//table[@class='wikitable sortable jquery-tablesorter']/tbody/tr/td[4]\")\n",
    "for i in views[:30]:\n",
    "    Views.append(i.text)"
   ]
  },
  {
   "cell_type": "code",
   "execution_count": 89,
   "id": "181b4f32",
   "metadata": {},
   "outputs": [
    {
     "name": "stderr",
     "output_type": "stream",
     "text": [
      "<ipython-input-89-2bb47177a67c>:2: DeprecationWarning: find_elements_by_xpath is deprecated. Please use find_elements(by=By.XPATH, value=xpath) instead\n",
      "  date=driver.find_elements_by_xpath(\"//table[@class='wikitable sortable jquery-tablesorter']/tbody/tr/td[5]\")\n"
     ]
    }
   ],
   "source": [
    "#Scrapping the details of the upload date\n",
    "date=driver.find_elements_by_xpath(\"//table[@class='wikitable sortable jquery-tablesorter']/tbody/tr/td[5]\")\n",
    "for i in date[:30]:\n",
    "    Upload_Date.append(i.text)"
   ]
  },
  {
   "cell_type": "code",
   "execution_count": 90,
   "id": "d6a68554",
   "metadata": {},
   "outputs": [
    {
     "data": {
      "text/html": [
       "<div>\n",
       "<style scoped>\n",
       "    .dataframe tbody tr th:only-of-type {\n",
       "        vertical-align: middle;\n",
       "    }\n",
       "\n",
       "    .dataframe tbody tr th {\n",
       "        vertical-align: top;\n",
       "    }\n",
       "\n",
       "    .dataframe thead th {\n",
       "        text-align: right;\n",
       "    }\n",
       "</style>\n",
       "<table border=\"1\" class=\"dataframe\">\n",
       "  <thead>\n",
       "    <tr style=\"text-align: right;\">\n",
       "      <th></th>\n",
       "      <th>Rank</th>\n",
       "      <th>Video Name</th>\n",
       "      <th>Artist</th>\n",
       "      <th>Views(Billions)</th>\n",
       "      <th>Upload Date</th>\n",
       "    </tr>\n",
       "  </thead>\n",
       "  <tbody>\n",
       "    <tr>\n",
       "      <th>0</th>\n",
       "      <td>NaN</td>\n",
       "      <td>\"Baby Shark Dance\"[3]</td>\n",
       "      <td>Pinkfong Baby Shark - Kids' Songs &amp; Stories</td>\n",
       "      <td>10.25</td>\n",
       "      <td>June 17, 2016</td>\n",
       "    </tr>\n",
       "    <tr>\n",
       "      <th>1</th>\n",
       "      <td>NaN</td>\n",
       "      <td>\"Despacito\"[6]</td>\n",
       "      <td>Luis Fonsi</td>\n",
       "      <td>7.76</td>\n",
       "      <td>January 12, 2017</td>\n",
       "    </tr>\n",
       "    <tr>\n",
       "      <th>2</th>\n",
       "      <td>NaN</td>\n",
       "      <td>\"Johny Johny Yes Papa\"[12]</td>\n",
       "      <td>LooLoo Kids</td>\n",
       "      <td>6.20</td>\n",
       "      <td>October 8, 2016</td>\n",
       "    </tr>\n",
       "    <tr>\n",
       "      <th>3</th>\n",
       "      <td>NaN</td>\n",
       "      <td>\"Shape of You\"[13]</td>\n",
       "      <td>Ed Sheeran</td>\n",
       "      <td>5.63</td>\n",
       "      <td>January 30, 2017</td>\n",
       "    </tr>\n",
       "    <tr>\n",
       "      <th>4</th>\n",
       "      <td>NaN</td>\n",
       "      <td>\"See You Again\"[15]</td>\n",
       "      <td>Wiz Khalifa</td>\n",
       "      <td>5.43</td>\n",
       "      <td>April 6, 2015</td>\n",
       "    </tr>\n",
       "    <tr>\n",
       "      <th>5</th>\n",
       "      <td>NaN</td>\n",
       "      <td>\"Bath Song\"[20]</td>\n",
       "      <td>Cocomelon – Nursery Rhymes</td>\n",
       "      <td>5.03</td>\n",
       "      <td>May 2, 2018</td>\n",
       "    </tr>\n",
       "    <tr>\n",
       "      <th>6</th>\n",
       "      <td>NaN</td>\n",
       "      <td>\"Learning Colors – Colorful Eggs on a Farm\"[21]</td>\n",
       "      <td>Miroshka TV</td>\n",
       "      <td>4.56</td>\n",
       "      <td>February 27, 2018</td>\n",
       "    </tr>\n",
       "    <tr>\n",
       "      <th>7</th>\n",
       "      <td>NaN</td>\n",
       "      <td>\"Phonics Song with Two Words\"[22]</td>\n",
       "      <td>ChuChu TV</td>\n",
       "      <td>4.49</td>\n",
       "      <td>March 6, 2014</td>\n",
       "    </tr>\n",
       "    <tr>\n",
       "      <th>8</th>\n",
       "      <td>NaN</td>\n",
       "      <td>\"Masha and the Bear – Recipe for Disaster\"[23]</td>\n",
       "      <td>Get Movies</td>\n",
       "      <td>4.49</td>\n",
       "      <td>January 31, 2012</td>\n",
       "    </tr>\n",
       "    <tr>\n",
       "      <th>9</th>\n",
       "      <td>NaN</td>\n",
       "      <td>\"Uptown Funk\"[24]</td>\n",
       "      <td>Mark Ronson</td>\n",
       "      <td>4.47</td>\n",
       "      <td>November 19, 2014</td>\n",
       "    </tr>\n",
       "    <tr>\n",
       "      <th>10</th>\n",
       "      <td>NaN</td>\n",
       "      <td>\"Gangnam Style\"[25]</td>\n",
       "      <td>Psy</td>\n",
       "      <td>4.35</td>\n",
       "      <td>July 15, 2012</td>\n",
       "    </tr>\n",
       "    <tr>\n",
       "      <th>11</th>\n",
       "      <td>NaN</td>\n",
       "      <td>\"Dame Tu Cosita\"[30]</td>\n",
       "      <td>El Chombo</td>\n",
       "      <td>3.87</td>\n",
       "      <td>April 5, 2018</td>\n",
       "    </tr>\n",
       "    <tr>\n",
       "      <th>12</th>\n",
       "      <td>NaN</td>\n",
       "      <td>\"Wheels on the Bus\"[31]</td>\n",
       "      <td>Cocomelon – Nursery Rhymes</td>\n",
       "      <td>3.72</td>\n",
       "      <td>May 24, 2018</td>\n",
       "    </tr>\n",
       "    <tr>\n",
       "      <th>13</th>\n",
       "      <td>NaN</td>\n",
       "      <td>\"Sugar\"[32]</td>\n",
       "      <td>Maroon 5</td>\n",
       "      <td>3.65</td>\n",
       "      <td>January 14, 2015</td>\n",
       "    </tr>\n",
       "    <tr>\n",
       "      <th>14</th>\n",
       "      <td>NaN</td>\n",
       "      <td>\"Roar\"[33]</td>\n",
       "      <td>Katy Perry</td>\n",
       "      <td>3.53</td>\n",
       "      <td>September 5, 2013</td>\n",
       "    </tr>\n",
       "    <tr>\n",
       "      <th>15</th>\n",
       "      <td>NaN</td>\n",
       "      <td>\"Sorry\"[34]</td>\n",
       "      <td>Justin Bieber</td>\n",
       "      <td>3.52</td>\n",
       "      <td>October 22, 2015</td>\n",
       "    </tr>\n",
       "    <tr>\n",
       "      <th>16</th>\n",
       "      <td>NaN</td>\n",
       "      <td>\"Counting Stars\"[35]</td>\n",
       "      <td>OneRepublic</td>\n",
       "      <td>3.52</td>\n",
       "      <td>May 31, 2013</td>\n",
       "    </tr>\n",
       "    <tr>\n",
       "      <th>17</th>\n",
       "      <td>NaN</td>\n",
       "      <td>\"Thinking Out Loud\"[36]</td>\n",
       "      <td>Ed Sheeran</td>\n",
       "      <td>3.41</td>\n",
       "      <td>October 7, 2014</td>\n",
       "    </tr>\n",
       "    <tr>\n",
       "      <th>18</th>\n",
       "      <td>NaN</td>\n",
       "      <td>\"Axel F\"[37]</td>\n",
       "      <td>Crazy Frog</td>\n",
       "      <td>3.24</td>\n",
       "      <td>June 16, 2009</td>\n",
       "    </tr>\n",
       "    <tr>\n",
       "      <th>19</th>\n",
       "      <td>NaN</td>\n",
       "      <td>\"Girls Like You\"[38]</td>\n",
       "      <td>Maroon 5</td>\n",
       "      <td>3.24</td>\n",
       "      <td>May 31, 2018</td>\n",
       "    </tr>\n",
       "    <tr>\n",
       "      <th>20</th>\n",
       "      <td>NaN</td>\n",
       "      <td>\"Faded\"[39]</td>\n",
       "      <td>Alan Walker</td>\n",
       "      <td>3.24</td>\n",
       "      <td>December 3, 2015</td>\n",
       "    </tr>\n",
       "    <tr>\n",
       "      <th>21</th>\n",
       "      <td>NaN</td>\n",
       "      <td>\"Dark Horse\"[40]</td>\n",
       "      <td>Katy Perry</td>\n",
       "      <td>3.23</td>\n",
       "      <td>February 20, 2014</td>\n",
       "    </tr>\n",
       "    <tr>\n",
       "      <th>22</th>\n",
       "      <td>NaN</td>\n",
       "      <td>\"Let Her Go\"[41]</td>\n",
       "      <td>Passenger</td>\n",
       "      <td>3.18</td>\n",
       "      <td>July 25, 2012</td>\n",
       "    </tr>\n",
       "    <tr>\n",
       "      <th>23</th>\n",
       "      <td>NaN</td>\n",
       "      <td>\"Bailando\"[42]</td>\n",
       "      <td>Enrique Iglesias</td>\n",
       "      <td>3.17</td>\n",
       "      <td>April 11, 2014</td>\n",
       "    </tr>\n",
       "    <tr>\n",
       "      <th>24</th>\n",
       "      <td>NaN</td>\n",
       "      <td>\"Lean On\"[43]</td>\n",
       "      <td>Major Lazer</td>\n",
       "      <td>3.17</td>\n",
       "      <td>March 22, 2015</td>\n",
       "    </tr>\n",
       "    <tr>\n",
       "      <th>25</th>\n",
       "      <td>NaN</td>\n",
       "      <td>\"Shake It Off\"[44]</td>\n",
       "      <td>Taylor Swift</td>\n",
       "      <td>3.15</td>\n",
       "      <td>August 18, 2014</td>\n",
       "    </tr>\n",
       "    <tr>\n",
       "      <th>26</th>\n",
       "      <td>NaN</td>\n",
       "      <td>\"Baa Baa Black Sheep\"[45]</td>\n",
       "      <td>Cocomelon – Nursery Rhymes</td>\n",
       "      <td>3.14</td>\n",
       "      <td>June 25, 2018</td>\n",
       "    </tr>\n",
       "    <tr>\n",
       "      <th>27</th>\n",
       "      <td>NaN</td>\n",
       "      <td>\"Perfect\"[46]</td>\n",
       "      <td>Ed Sheeran</td>\n",
       "      <td>3.10</td>\n",
       "      <td>November 9, 2017</td>\n",
       "    </tr>\n",
       "    <tr>\n",
       "      <th>28</th>\n",
       "      <td>NaN</td>\n",
       "      <td>\"Waka Waka (This Time for Africa)\"[47]</td>\n",
       "      <td>Shakira</td>\n",
       "      <td>3.07</td>\n",
       "      <td>June 4, 2010</td>\n",
       "    </tr>\n",
       "    <tr>\n",
       "      <th>29</th>\n",
       "      <td>NaN</td>\n",
       "      <td>\"Mi Gente\"[48]</td>\n",
       "      <td>J Balvin</td>\n",
       "      <td>3.05</td>\n",
       "      <td>June 29, 2017</td>\n",
       "    </tr>\n",
       "  </tbody>\n",
       "</table>\n",
       "</div>"
      ],
      "text/plain": [
       "    Rank                                       Video Name  \\\n",
       "0    NaN                            \"Baby Shark Dance\"[3]   \n",
       "1    NaN                                   \"Despacito\"[6]   \n",
       "2    NaN                       \"Johny Johny Yes Papa\"[12]   \n",
       "3    NaN                               \"Shape of You\"[13]   \n",
       "4    NaN                              \"See You Again\"[15]   \n",
       "5    NaN                                  \"Bath Song\"[20]   \n",
       "6    NaN  \"Learning Colors – Colorful Eggs on a Farm\"[21]   \n",
       "7    NaN                \"Phonics Song with Two Words\"[22]   \n",
       "8    NaN   \"Masha and the Bear – Recipe for Disaster\"[23]   \n",
       "9    NaN                                \"Uptown Funk\"[24]   \n",
       "10   NaN                              \"Gangnam Style\"[25]   \n",
       "11   NaN                             \"Dame Tu Cosita\"[30]   \n",
       "12   NaN                          \"Wheels on the Bus\"[31]   \n",
       "13   NaN                                      \"Sugar\"[32]   \n",
       "14   NaN                                       \"Roar\"[33]   \n",
       "15   NaN                                      \"Sorry\"[34]   \n",
       "16   NaN                             \"Counting Stars\"[35]   \n",
       "17   NaN                          \"Thinking Out Loud\"[36]   \n",
       "18   NaN                                     \"Axel F\"[37]   \n",
       "19   NaN                             \"Girls Like You\"[38]   \n",
       "20   NaN                                      \"Faded\"[39]   \n",
       "21   NaN                                 \"Dark Horse\"[40]   \n",
       "22   NaN                                 \"Let Her Go\"[41]   \n",
       "23   NaN                                   \"Bailando\"[42]   \n",
       "24   NaN                                    \"Lean On\"[43]   \n",
       "25   NaN                               \"Shake It Off\"[44]   \n",
       "26   NaN                        \"Baa Baa Black Sheep\"[45]   \n",
       "27   NaN                                    \"Perfect\"[46]   \n",
       "28   NaN           \"Waka Waka (This Time for Africa)\"[47]   \n",
       "29   NaN                                   \"Mi Gente\"[48]   \n",
       "\n",
       "                                         Artist Views(Billions)  \\\n",
       "0   Pinkfong Baby Shark - Kids' Songs & Stories           10.25   \n",
       "1                                    Luis Fonsi            7.76   \n",
       "2                                   LooLoo Kids            6.20   \n",
       "3                                    Ed Sheeran            5.63   \n",
       "4                                   Wiz Khalifa            5.43   \n",
       "5                    Cocomelon – Nursery Rhymes            5.03   \n",
       "6                                   Miroshka TV            4.56   \n",
       "7                                     ChuChu TV            4.49   \n",
       "8                                    Get Movies            4.49   \n",
       "9                                   Mark Ronson            4.47   \n",
       "10                                          Psy            4.35   \n",
       "11                                    El Chombo            3.87   \n",
       "12                   Cocomelon – Nursery Rhymes            3.72   \n",
       "13                                     Maroon 5            3.65   \n",
       "14                                   Katy Perry            3.53   \n",
       "15                                Justin Bieber            3.52   \n",
       "16                                  OneRepublic            3.52   \n",
       "17                                   Ed Sheeran            3.41   \n",
       "18                                   Crazy Frog            3.24   \n",
       "19                                     Maroon 5            3.24   \n",
       "20                                  Alan Walker            3.24   \n",
       "21                                   Katy Perry            3.23   \n",
       "22                                    Passenger            3.18   \n",
       "23                             Enrique Iglesias            3.17   \n",
       "24                                  Major Lazer            3.17   \n",
       "25                                 Taylor Swift            3.15   \n",
       "26                   Cocomelon – Nursery Rhymes            3.14   \n",
       "27                                   Ed Sheeran            3.10   \n",
       "28                                      Shakira            3.07   \n",
       "29                                     J Balvin            3.05   \n",
       "\n",
       "          Upload Date  \n",
       "0       June 17, 2016  \n",
       "1    January 12, 2017  \n",
       "2     October 8, 2016  \n",
       "3    January 30, 2017  \n",
       "4       April 6, 2015  \n",
       "5         May 2, 2018  \n",
       "6   February 27, 2018  \n",
       "7       March 6, 2014  \n",
       "8    January 31, 2012  \n",
       "9   November 19, 2014  \n",
       "10      July 15, 2012  \n",
       "11      April 5, 2018  \n",
       "12       May 24, 2018  \n",
       "13   January 14, 2015  \n",
       "14  September 5, 2013  \n",
       "15   October 22, 2015  \n",
       "16       May 31, 2013  \n",
       "17    October 7, 2014  \n",
       "18      June 16, 2009  \n",
       "19       May 31, 2018  \n",
       "20   December 3, 2015  \n",
       "21  February 20, 2014  \n",
       "22      July 25, 2012  \n",
       "23     April 11, 2014  \n",
       "24     March 22, 2015  \n",
       "25    August 18, 2014  \n",
       "26      June 25, 2018  \n",
       "27   November 9, 2017  \n",
       "28       June 4, 2010  \n",
       "29      June 29, 2017  "
      ]
     },
     "execution_count": 90,
     "metadata": {},
     "output_type": "execute_result"
    }
   ],
   "source": [
    "#Creating a dataframe for storing the scraped data\n",
    "Yt_data=pd.DataFrame({})\n",
    "Yt_data['Rank']=Rank\n",
    "Yt_data['Video Name']=Name\n",
    "Yt_data['Artist']=Artist\n",
    "Yt_data['Views(Billions)']=Views\n",
    "Yt_data['Upload Date']=Upload_Date\n",
    "Yt_data"
   ]
  },
  {
   "cell_type": "code",
   "execution_count": 91,
   "id": "702b92a3",
   "metadata": {},
   "outputs": [
    {
     "data": {
      "text/html": [
       "<div>\n",
       "<style scoped>\n",
       "    .dataframe tbody tr th:only-of-type {\n",
       "        vertical-align: middle;\n",
       "    }\n",
       "\n",
       "    .dataframe tbody tr th {\n",
       "        vertical-align: top;\n",
       "    }\n",
       "\n",
       "    .dataframe thead th {\n",
       "        text-align: right;\n",
       "    }\n",
       "</style>\n",
       "<table border=\"1\" class=\"dataframe\">\n",
       "  <thead>\n",
       "    <tr style=\"text-align: right;\">\n",
       "      <th></th>\n",
       "      <th>0</th>\n",
       "      <th>1</th>\n",
       "    </tr>\n",
       "  </thead>\n",
       "  <tbody>\n",
       "    <tr>\n",
       "      <th>0</th>\n",
       "      <td>\"Baby Shark Dance\"</td>\n",
       "      <td>3]</td>\n",
       "    </tr>\n",
       "    <tr>\n",
       "      <th>1</th>\n",
       "      <td>\"Despacito\"</td>\n",
       "      <td>6]</td>\n",
       "    </tr>\n",
       "    <tr>\n",
       "      <th>2</th>\n",
       "      <td>\"Johny Johny Yes Papa\"</td>\n",
       "      <td>12]</td>\n",
       "    </tr>\n",
       "    <tr>\n",
       "      <th>3</th>\n",
       "      <td>\"Shape of You\"</td>\n",
       "      <td>13]</td>\n",
       "    </tr>\n",
       "    <tr>\n",
       "      <th>4</th>\n",
       "      <td>\"See You Again\"</td>\n",
       "      <td>15]</td>\n",
       "    </tr>\n",
       "    <tr>\n",
       "      <th>5</th>\n",
       "      <td>\"Bath Song\"</td>\n",
       "      <td>20]</td>\n",
       "    </tr>\n",
       "    <tr>\n",
       "      <th>6</th>\n",
       "      <td>\"Learning Colors – Colorful Eggs on a Farm\"</td>\n",
       "      <td>21]</td>\n",
       "    </tr>\n",
       "    <tr>\n",
       "      <th>7</th>\n",
       "      <td>\"Phonics Song with Two Words\"</td>\n",
       "      <td>22]</td>\n",
       "    </tr>\n",
       "    <tr>\n",
       "      <th>8</th>\n",
       "      <td>\"Masha and the Bear – Recipe for Disaster\"</td>\n",
       "      <td>23]</td>\n",
       "    </tr>\n",
       "    <tr>\n",
       "      <th>9</th>\n",
       "      <td>\"Uptown Funk\"</td>\n",
       "      <td>24]</td>\n",
       "    </tr>\n",
       "    <tr>\n",
       "      <th>10</th>\n",
       "      <td>\"Gangnam Style\"</td>\n",
       "      <td>25]</td>\n",
       "    </tr>\n",
       "    <tr>\n",
       "      <th>11</th>\n",
       "      <td>\"Dame Tu Cosita\"</td>\n",
       "      <td>30]</td>\n",
       "    </tr>\n",
       "    <tr>\n",
       "      <th>12</th>\n",
       "      <td>\"Wheels on the Bus\"</td>\n",
       "      <td>31]</td>\n",
       "    </tr>\n",
       "    <tr>\n",
       "      <th>13</th>\n",
       "      <td>\"Sugar\"</td>\n",
       "      <td>32]</td>\n",
       "    </tr>\n",
       "    <tr>\n",
       "      <th>14</th>\n",
       "      <td>\"Roar\"</td>\n",
       "      <td>33]</td>\n",
       "    </tr>\n",
       "    <tr>\n",
       "      <th>15</th>\n",
       "      <td>\"Sorry\"</td>\n",
       "      <td>34]</td>\n",
       "    </tr>\n",
       "    <tr>\n",
       "      <th>16</th>\n",
       "      <td>\"Counting Stars\"</td>\n",
       "      <td>35]</td>\n",
       "    </tr>\n",
       "    <tr>\n",
       "      <th>17</th>\n",
       "      <td>\"Thinking Out Loud\"</td>\n",
       "      <td>36]</td>\n",
       "    </tr>\n",
       "    <tr>\n",
       "      <th>18</th>\n",
       "      <td>\"Axel F\"</td>\n",
       "      <td>37]</td>\n",
       "    </tr>\n",
       "    <tr>\n",
       "      <th>19</th>\n",
       "      <td>\"Girls Like You\"</td>\n",
       "      <td>38]</td>\n",
       "    </tr>\n",
       "    <tr>\n",
       "      <th>20</th>\n",
       "      <td>\"Faded\"</td>\n",
       "      <td>39]</td>\n",
       "    </tr>\n",
       "    <tr>\n",
       "      <th>21</th>\n",
       "      <td>\"Dark Horse\"</td>\n",
       "      <td>40]</td>\n",
       "    </tr>\n",
       "    <tr>\n",
       "      <th>22</th>\n",
       "      <td>\"Let Her Go\"</td>\n",
       "      <td>41]</td>\n",
       "    </tr>\n",
       "    <tr>\n",
       "      <th>23</th>\n",
       "      <td>\"Bailando\"</td>\n",
       "      <td>42]</td>\n",
       "    </tr>\n",
       "    <tr>\n",
       "      <th>24</th>\n",
       "      <td>\"Lean On\"</td>\n",
       "      <td>43]</td>\n",
       "    </tr>\n",
       "    <tr>\n",
       "      <th>25</th>\n",
       "      <td>\"Shake It Off\"</td>\n",
       "      <td>44]</td>\n",
       "    </tr>\n",
       "    <tr>\n",
       "      <th>26</th>\n",
       "      <td>\"Baa Baa Black Sheep\"</td>\n",
       "      <td>45]</td>\n",
       "    </tr>\n",
       "    <tr>\n",
       "      <th>27</th>\n",
       "      <td>\"Perfect\"</td>\n",
       "      <td>46]</td>\n",
       "    </tr>\n",
       "    <tr>\n",
       "      <th>28</th>\n",
       "      <td>\"Waka Waka (This Time for Africa)\"</td>\n",
       "      <td>47]</td>\n",
       "    </tr>\n",
       "    <tr>\n",
       "      <th>29</th>\n",
       "      <td>\"Mi Gente\"</td>\n",
       "      <td>48]</td>\n",
       "    </tr>\n",
       "  </tbody>\n",
       "</table>\n",
       "</div>"
      ],
      "text/plain": [
       "                                              0    1\n",
       "0                            \"Baby Shark Dance\"   3]\n",
       "1                                   \"Despacito\"   6]\n",
       "2                        \"Johny Johny Yes Papa\"  12]\n",
       "3                                \"Shape of You\"  13]\n",
       "4                               \"See You Again\"  15]\n",
       "5                                   \"Bath Song\"  20]\n",
       "6   \"Learning Colors – Colorful Eggs on a Farm\"  21]\n",
       "7                 \"Phonics Song with Two Words\"  22]\n",
       "8    \"Masha and the Bear – Recipe for Disaster\"  23]\n",
       "9                                 \"Uptown Funk\"  24]\n",
       "10                              \"Gangnam Style\"  25]\n",
       "11                             \"Dame Tu Cosita\"  30]\n",
       "12                          \"Wheels on the Bus\"  31]\n",
       "13                                      \"Sugar\"  32]\n",
       "14                                       \"Roar\"  33]\n",
       "15                                      \"Sorry\"  34]\n",
       "16                             \"Counting Stars\"  35]\n",
       "17                          \"Thinking Out Loud\"  36]\n",
       "18                                     \"Axel F\"  37]\n",
       "19                             \"Girls Like You\"  38]\n",
       "20                                      \"Faded\"  39]\n",
       "21                                 \"Dark Horse\"  40]\n",
       "22                                 \"Let Her Go\"  41]\n",
       "23                                   \"Bailando\"  42]\n",
       "24                                    \"Lean On\"  43]\n",
       "25                               \"Shake It Off\"  44]\n",
       "26                        \"Baa Baa Black Sheep\"  45]\n",
       "27                                    \"Perfect\"  46]\n",
       "28           \"Waka Waka (This Time for Africa)\"  47]\n",
       "29                                   \"Mi Gente\"  48]"
      ]
     },
     "execution_count": 91,
     "metadata": {},
     "output_type": "execute_result"
    }
   ],
   "source": [
    "#Removing the stray numbers from videoname\n",
    "new=Yt_data[\"Video Name\"].str.split(\"[\", n = 1, expand = True) \n",
    "new"
   ]
  },
  {
   "cell_type": "code",
   "execution_count": 92,
   "id": "c684e885",
   "metadata": {},
   "outputs": [
    {
     "data": {
      "text/html": [
       "<div>\n",
       "<style scoped>\n",
       "    .dataframe tbody tr th:only-of-type {\n",
       "        vertical-align: middle;\n",
       "    }\n",
       "\n",
       "    .dataframe tbody tr th {\n",
       "        vertical-align: top;\n",
       "    }\n",
       "\n",
       "    .dataframe thead th {\n",
       "        text-align: right;\n",
       "    }\n",
       "</style>\n",
       "<table border=\"1\" class=\"dataframe\">\n",
       "  <thead>\n",
       "    <tr style=\"text-align: right;\">\n",
       "      <th></th>\n",
       "      <th>Rank</th>\n",
       "      <th>Video Name</th>\n",
       "      <th>Artist</th>\n",
       "      <th>Views(Billions)</th>\n",
       "      <th>Upload Date</th>\n",
       "    </tr>\n",
       "  </thead>\n",
       "  <tbody>\n",
       "    <tr>\n",
       "      <th>0</th>\n",
       "      <td>NaN</td>\n",
       "      <td>\"Baby Shark Dance\"</td>\n",
       "      <td>Pinkfong Baby Shark - Kids' Songs &amp; Stories</td>\n",
       "      <td>10.25</td>\n",
       "      <td>June 17, 2016</td>\n",
       "    </tr>\n",
       "    <tr>\n",
       "      <th>1</th>\n",
       "      <td>NaN</td>\n",
       "      <td>\"Despacito\"</td>\n",
       "      <td>Luis Fonsi</td>\n",
       "      <td>7.76</td>\n",
       "      <td>January 12, 2017</td>\n",
       "    </tr>\n",
       "    <tr>\n",
       "      <th>2</th>\n",
       "      <td>NaN</td>\n",
       "      <td>\"Johny Johny Yes Papa\"</td>\n",
       "      <td>LooLoo Kids</td>\n",
       "      <td>6.20</td>\n",
       "      <td>October 8, 2016</td>\n",
       "    </tr>\n",
       "    <tr>\n",
       "      <th>3</th>\n",
       "      <td>NaN</td>\n",
       "      <td>\"Shape of You\"</td>\n",
       "      <td>Ed Sheeran</td>\n",
       "      <td>5.63</td>\n",
       "      <td>January 30, 2017</td>\n",
       "    </tr>\n",
       "    <tr>\n",
       "      <th>4</th>\n",
       "      <td>NaN</td>\n",
       "      <td>\"See You Again\"</td>\n",
       "      <td>Wiz Khalifa</td>\n",
       "      <td>5.43</td>\n",
       "      <td>April 6, 2015</td>\n",
       "    </tr>\n",
       "    <tr>\n",
       "      <th>5</th>\n",
       "      <td>NaN</td>\n",
       "      <td>\"Bath Song\"</td>\n",
       "      <td>Cocomelon – Nursery Rhymes</td>\n",
       "      <td>5.03</td>\n",
       "      <td>May 2, 2018</td>\n",
       "    </tr>\n",
       "    <tr>\n",
       "      <th>6</th>\n",
       "      <td>NaN</td>\n",
       "      <td>\"Learning Colors – Colorful Eggs on a Farm\"</td>\n",
       "      <td>Miroshka TV</td>\n",
       "      <td>4.56</td>\n",
       "      <td>February 27, 2018</td>\n",
       "    </tr>\n",
       "    <tr>\n",
       "      <th>7</th>\n",
       "      <td>NaN</td>\n",
       "      <td>\"Phonics Song with Two Words\"</td>\n",
       "      <td>ChuChu TV</td>\n",
       "      <td>4.49</td>\n",
       "      <td>March 6, 2014</td>\n",
       "    </tr>\n",
       "    <tr>\n",
       "      <th>8</th>\n",
       "      <td>NaN</td>\n",
       "      <td>\"Masha and the Bear – Recipe for Disaster\"</td>\n",
       "      <td>Get Movies</td>\n",
       "      <td>4.49</td>\n",
       "      <td>January 31, 2012</td>\n",
       "    </tr>\n",
       "    <tr>\n",
       "      <th>9</th>\n",
       "      <td>NaN</td>\n",
       "      <td>\"Uptown Funk\"</td>\n",
       "      <td>Mark Ronson</td>\n",
       "      <td>4.47</td>\n",
       "      <td>November 19, 2014</td>\n",
       "    </tr>\n",
       "    <tr>\n",
       "      <th>10</th>\n",
       "      <td>NaN</td>\n",
       "      <td>\"Gangnam Style\"</td>\n",
       "      <td>Psy</td>\n",
       "      <td>4.35</td>\n",
       "      <td>July 15, 2012</td>\n",
       "    </tr>\n",
       "    <tr>\n",
       "      <th>11</th>\n",
       "      <td>NaN</td>\n",
       "      <td>\"Dame Tu Cosita\"</td>\n",
       "      <td>El Chombo</td>\n",
       "      <td>3.87</td>\n",
       "      <td>April 5, 2018</td>\n",
       "    </tr>\n",
       "    <tr>\n",
       "      <th>12</th>\n",
       "      <td>NaN</td>\n",
       "      <td>\"Wheels on the Bus\"</td>\n",
       "      <td>Cocomelon – Nursery Rhymes</td>\n",
       "      <td>3.72</td>\n",
       "      <td>May 24, 2018</td>\n",
       "    </tr>\n",
       "    <tr>\n",
       "      <th>13</th>\n",
       "      <td>NaN</td>\n",
       "      <td>\"Sugar\"</td>\n",
       "      <td>Maroon 5</td>\n",
       "      <td>3.65</td>\n",
       "      <td>January 14, 2015</td>\n",
       "    </tr>\n",
       "    <tr>\n",
       "      <th>14</th>\n",
       "      <td>NaN</td>\n",
       "      <td>\"Roar\"</td>\n",
       "      <td>Katy Perry</td>\n",
       "      <td>3.53</td>\n",
       "      <td>September 5, 2013</td>\n",
       "    </tr>\n",
       "    <tr>\n",
       "      <th>15</th>\n",
       "      <td>NaN</td>\n",
       "      <td>\"Sorry\"</td>\n",
       "      <td>Justin Bieber</td>\n",
       "      <td>3.52</td>\n",
       "      <td>October 22, 2015</td>\n",
       "    </tr>\n",
       "    <tr>\n",
       "      <th>16</th>\n",
       "      <td>NaN</td>\n",
       "      <td>\"Counting Stars\"</td>\n",
       "      <td>OneRepublic</td>\n",
       "      <td>3.52</td>\n",
       "      <td>May 31, 2013</td>\n",
       "    </tr>\n",
       "    <tr>\n",
       "      <th>17</th>\n",
       "      <td>NaN</td>\n",
       "      <td>\"Thinking Out Loud\"</td>\n",
       "      <td>Ed Sheeran</td>\n",
       "      <td>3.41</td>\n",
       "      <td>October 7, 2014</td>\n",
       "    </tr>\n",
       "    <tr>\n",
       "      <th>18</th>\n",
       "      <td>NaN</td>\n",
       "      <td>\"Axel F\"</td>\n",
       "      <td>Crazy Frog</td>\n",
       "      <td>3.24</td>\n",
       "      <td>June 16, 2009</td>\n",
       "    </tr>\n",
       "    <tr>\n",
       "      <th>19</th>\n",
       "      <td>NaN</td>\n",
       "      <td>\"Girls Like You\"</td>\n",
       "      <td>Maroon 5</td>\n",
       "      <td>3.24</td>\n",
       "      <td>May 31, 2018</td>\n",
       "    </tr>\n",
       "    <tr>\n",
       "      <th>20</th>\n",
       "      <td>NaN</td>\n",
       "      <td>\"Faded\"</td>\n",
       "      <td>Alan Walker</td>\n",
       "      <td>3.24</td>\n",
       "      <td>December 3, 2015</td>\n",
       "    </tr>\n",
       "    <tr>\n",
       "      <th>21</th>\n",
       "      <td>NaN</td>\n",
       "      <td>\"Dark Horse\"</td>\n",
       "      <td>Katy Perry</td>\n",
       "      <td>3.23</td>\n",
       "      <td>February 20, 2014</td>\n",
       "    </tr>\n",
       "    <tr>\n",
       "      <th>22</th>\n",
       "      <td>NaN</td>\n",
       "      <td>\"Let Her Go\"</td>\n",
       "      <td>Passenger</td>\n",
       "      <td>3.18</td>\n",
       "      <td>July 25, 2012</td>\n",
       "    </tr>\n",
       "    <tr>\n",
       "      <th>23</th>\n",
       "      <td>NaN</td>\n",
       "      <td>\"Bailando\"</td>\n",
       "      <td>Enrique Iglesias</td>\n",
       "      <td>3.17</td>\n",
       "      <td>April 11, 2014</td>\n",
       "    </tr>\n",
       "    <tr>\n",
       "      <th>24</th>\n",
       "      <td>NaN</td>\n",
       "      <td>\"Lean On\"</td>\n",
       "      <td>Major Lazer</td>\n",
       "      <td>3.17</td>\n",
       "      <td>March 22, 2015</td>\n",
       "    </tr>\n",
       "    <tr>\n",
       "      <th>25</th>\n",
       "      <td>NaN</td>\n",
       "      <td>\"Shake It Off\"</td>\n",
       "      <td>Taylor Swift</td>\n",
       "      <td>3.15</td>\n",
       "      <td>August 18, 2014</td>\n",
       "    </tr>\n",
       "    <tr>\n",
       "      <th>26</th>\n",
       "      <td>NaN</td>\n",
       "      <td>\"Baa Baa Black Sheep\"</td>\n",
       "      <td>Cocomelon – Nursery Rhymes</td>\n",
       "      <td>3.14</td>\n",
       "      <td>June 25, 2018</td>\n",
       "    </tr>\n",
       "    <tr>\n",
       "      <th>27</th>\n",
       "      <td>NaN</td>\n",
       "      <td>\"Perfect\"</td>\n",
       "      <td>Ed Sheeran</td>\n",
       "      <td>3.10</td>\n",
       "      <td>November 9, 2017</td>\n",
       "    </tr>\n",
       "    <tr>\n",
       "      <th>28</th>\n",
       "      <td>NaN</td>\n",
       "      <td>\"Waka Waka (This Time for Africa)\"</td>\n",
       "      <td>Shakira</td>\n",
       "      <td>3.07</td>\n",
       "      <td>June 4, 2010</td>\n",
       "    </tr>\n",
       "    <tr>\n",
       "      <th>29</th>\n",
       "      <td>NaN</td>\n",
       "      <td>\"Mi Gente\"</td>\n",
       "      <td>J Balvin</td>\n",
       "      <td>3.05</td>\n",
       "      <td>June 29, 2017</td>\n",
       "    </tr>\n",
       "  </tbody>\n",
       "</table>\n",
       "</div>"
      ],
      "text/plain": [
       "    Rank                                   Video Name  \\\n",
       "0    NaN                           \"Baby Shark Dance\"   \n",
       "1    NaN                                  \"Despacito\"   \n",
       "2    NaN                       \"Johny Johny Yes Papa\"   \n",
       "3    NaN                               \"Shape of You\"   \n",
       "4    NaN                              \"See You Again\"   \n",
       "5    NaN                                  \"Bath Song\"   \n",
       "6    NaN  \"Learning Colors – Colorful Eggs on a Farm\"   \n",
       "7    NaN                \"Phonics Song with Two Words\"   \n",
       "8    NaN   \"Masha and the Bear – Recipe for Disaster\"   \n",
       "9    NaN                                \"Uptown Funk\"   \n",
       "10   NaN                              \"Gangnam Style\"   \n",
       "11   NaN                             \"Dame Tu Cosita\"   \n",
       "12   NaN                          \"Wheels on the Bus\"   \n",
       "13   NaN                                      \"Sugar\"   \n",
       "14   NaN                                       \"Roar\"   \n",
       "15   NaN                                      \"Sorry\"   \n",
       "16   NaN                             \"Counting Stars\"   \n",
       "17   NaN                          \"Thinking Out Loud\"   \n",
       "18   NaN                                     \"Axel F\"   \n",
       "19   NaN                             \"Girls Like You\"   \n",
       "20   NaN                                      \"Faded\"   \n",
       "21   NaN                                 \"Dark Horse\"   \n",
       "22   NaN                                 \"Let Her Go\"   \n",
       "23   NaN                                   \"Bailando\"   \n",
       "24   NaN                                    \"Lean On\"   \n",
       "25   NaN                               \"Shake It Off\"   \n",
       "26   NaN                        \"Baa Baa Black Sheep\"   \n",
       "27   NaN                                    \"Perfect\"   \n",
       "28   NaN           \"Waka Waka (This Time for Africa)\"   \n",
       "29   NaN                                   \"Mi Gente\"   \n",
       "\n",
       "                                         Artist Views(Billions)  \\\n",
       "0   Pinkfong Baby Shark - Kids' Songs & Stories           10.25   \n",
       "1                                    Luis Fonsi            7.76   \n",
       "2                                   LooLoo Kids            6.20   \n",
       "3                                    Ed Sheeran            5.63   \n",
       "4                                   Wiz Khalifa            5.43   \n",
       "5                    Cocomelon – Nursery Rhymes            5.03   \n",
       "6                                   Miroshka TV            4.56   \n",
       "7                                     ChuChu TV            4.49   \n",
       "8                                    Get Movies            4.49   \n",
       "9                                   Mark Ronson            4.47   \n",
       "10                                          Psy            4.35   \n",
       "11                                    El Chombo            3.87   \n",
       "12                   Cocomelon – Nursery Rhymes            3.72   \n",
       "13                                     Maroon 5            3.65   \n",
       "14                                   Katy Perry            3.53   \n",
       "15                                Justin Bieber            3.52   \n",
       "16                                  OneRepublic            3.52   \n",
       "17                                   Ed Sheeran            3.41   \n",
       "18                                   Crazy Frog            3.24   \n",
       "19                                     Maroon 5            3.24   \n",
       "20                                  Alan Walker            3.24   \n",
       "21                                   Katy Perry            3.23   \n",
       "22                                    Passenger            3.18   \n",
       "23                             Enrique Iglesias            3.17   \n",
       "24                                  Major Lazer            3.17   \n",
       "25                                 Taylor Swift            3.15   \n",
       "26                   Cocomelon – Nursery Rhymes            3.14   \n",
       "27                                   Ed Sheeran            3.10   \n",
       "28                                      Shakira            3.07   \n",
       "29                                     J Balvin            3.05   \n",
       "\n",
       "          Upload Date  \n",
       "0       June 17, 2016  \n",
       "1    January 12, 2017  \n",
       "2     October 8, 2016  \n",
       "3    January 30, 2017  \n",
       "4       April 6, 2015  \n",
       "5         May 2, 2018  \n",
       "6   February 27, 2018  \n",
       "7       March 6, 2014  \n",
       "8    January 31, 2012  \n",
       "9   November 19, 2014  \n",
       "10      July 15, 2012  \n",
       "11      April 5, 2018  \n",
       "12       May 24, 2018  \n",
       "13   January 14, 2015  \n",
       "14  September 5, 2013  \n",
       "15   October 22, 2015  \n",
       "16       May 31, 2013  \n",
       "17    October 7, 2014  \n",
       "18      June 16, 2009  \n",
       "19       May 31, 2018  \n",
       "20   December 3, 2015  \n",
       "21  February 20, 2014  \n",
       "22      July 25, 2012  \n",
       "23     April 11, 2014  \n",
       "24     March 22, 2015  \n",
       "25    August 18, 2014  \n",
       "26      June 25, 2018  \n",
       "27   November 9, 2017  \n",
       "28       June 4, 2010  \n",
       "29      June 29, 2017  "
      ]
     },
     "execution_count": 92,
     "metadata": {},
     "output_type": "execute_result"
    }
   ],
   "source": [
    "#Dropping the column with stray numbers\n",
    "Yt_data.drop(columns=['Video Name'],axis=1,inplace=True)\n",
    "\n",
    "#Inserting the name column\n",
    "Yt_data.insert(1,\"Video Name\",new[0])\n",
    "\n",
    "#Checking the data after removing the stray numbers\n",
    "Yt_data "
   ]
  },
  {
   "cell_type": "code",
   "execution_count": 93,
   "id": "2291f92b",
   "metadata": {},
   "outputs": [],
   "source": [
    "#Closing the driver\n",
    "driver.close()"
   ]
  },
  {
   "cell_type": "code",
   "execution_count": null,
   "id": "f6021f45",
   "metadata": {},
   "outputs": [],
   "source": [
    "#. Scrape the details team India’s international fixtures from bcci.tv.\n",
    "Url = https://www.bcci.tv/.\n",
    "You need to find following details:\n",
    "A) Match title (I.e. 1\n",
    "st ODI)\n",
    "B) Series\n",
    "C) Place\n",
    "D) Datea\n",
    "E) Time\n",
    "Note: - From bcci.tv home page you have reach to the international fixture page through code."
   ]
  },
  {
   "cell_type": "code",
   "execution_count": null,
   "id": "207213d6",
   "metadata": {},
   "outputs": [],
   "source": [
    "driver = webdriver.Chrome('Chromedriver.exe')"
   ]
  },
  {
   "cell_type": "code",
   "execution_count": 96,
   "id": "d4a5cd1f",
   "metadata": {},
   "outputs": [],
   "source": [
    "#Getting the website to driver\n",
    "driver.get('https://www.bcci.tv/')"
   ]
  },
  {
   "cell_type": "code",
   "execution_count": 103,
   "id": "c2e46c96",
   "metadata": {},
   "outputs": [
    {
     "name": "stderr",
     "output_type": "stream",
     "text": [
      "<ipython-input-103-855401f1ff06>:1: DeprecationWarning: find_element_by_xpath is deprecated. Please use find_element(by=By.XPATH, value=xpath) instead\n",
      "  international=driver.find_element_by_xpath(\"//ul[@class='navigation__list showMoreEnabled']/li[1]/div[2]/div/ul/li[1]/a\")\n"
     ]
    },
    {
     "ename": "NoSuchElementException",
     "evalue": "Message: no such element: Unable to locate element: {\"method\":\"xpath\",\"selector\":\"//ul[@class='navigation__list showMoreEnabled']/li[1]/div[2]/div/ul/li[1]/a\"}\n  (Session info: chrome=98.0.4758.102)\nStacktrace:\nBacktrace:\n\tOrdinal0 [0x007369A3+2582947]\n\tOrdinal0 [0x006CA6D1+2139857]\n\tOrdinal0 [0x005C3A98+1063576]\n\tOrdinal0 [0x005EFF3E+1244990]\n\tOrdinal0 [0x005F013B+1245499]\n\tOrdinal0 [0x00619F52+1417042]\n\tOrdinal0 [0x00608594+1344916]\n\tOrdinal0 [0x0061834A+1409866]\n\tOrdinal0 [0x00608366+1344358]\n\tOrdinal0 [0x005E5176+1200502]\n\tOrdinal0 [0x005E6066+1204326]\n\tGetHandleVerifier [0x008DBE02+1675858]\n\tGetHandleVerifier [0x0099036C+2414524]\n\tGetHandleVerifier [0x007CBB01+560977]\n\tGetHandleVerifier [0x007CA8D3+556323]\n\tOrdinal0 [0x006D020E+2163214]\n\tOrdinal0 [0x006D5078+2183288]\n\tOrdinal0 [0x006D51C0+2183616]\n\tOrdinal0 [0x006DEE1C+2223644]\n\tBaseThreadInitThunk [0x768FFA29+25]\n\tRtlGetAppContainerNamedObjectPath [0x774B7A9E+286]\n\tRtlGetAppContainerNamedObjectPath [0x774B7A6E+238]\n",
     "output_type": "error",
     "traceback": [
      "\u001b[1;31m---------------------------------------------------------------------------\u001b[0m",
      "\u001b[1;31mNoSuchElementException\u001b[0m                    Traceback (most recent call last)",
      "\u001b[1;32m<ipython-input-103-855401f1ff06>\u001b[0m in \u001b[0;36m<module>\u001b[1;34m\u001b[0m\n\u001b[1;32m----> 1\u001b[1;33m \u001b[0minternational\u001b[0m\u001b[1;33m=\u001b[0m\u001b[0mdriver\u001b[0m\u001b[1;33m.\u001b[0m\u001b[0mfind_element_by_xpath\u001b[0m\u001b[1;33m(\u001b[0m\u001b[1;34m\"//ul[@class='navigation__list showMoreEnabled']/li[1]/div[2]/div/ul/li[1]/a\"\u001b[0m\u001b[1;33m)\u001b[0m\u001b[1;33m\u001b[0m\u001b[1;33m\u001b[0m\u001b[0m\n\u001b[0m",
      "\u001b[1;32m~\\anaconda3\\lib\\site-packages\\selenium\\webdriver\\remote\\webdriver.py\u001b[0m in \u001b[0;36mfind_element_by_xpath\u001b[1;34m(self, xpath)\u001b[0m\n\u001b[0;32m    519\u001b[0m             \u001b[0mstacklevel\u001b[0m\u001b[1;33m=\u001b[0m\u001b[1;36m2\u001b[0m\u001b[1;33m,\u001b[0m\u001b[1;33m\u001b[0m\u001b[1;33m\u001b[0m\u001b[0m\n\u001b[0;32m    520\u001b[0m         )\n\u001b[1;32m--> 521\u001b[1;33m         \u001b[1;32mreturn\u001b[0m \u001b[0mself\u001b[0m\u001b[1;33m.\u001b[0m\u001b[0mfind_element\u001b[0m\u001b[1;33m(\u001b[0m\u001b[0mby\u001b[0m\u001b[1;33m=\u001b[0m\u001b[0mBy\u001b[0m\u001b[1;33m.\u001b[0m\u001b[0mXPATH\u001b[0m\u001b[1;33m,\u001b[0m \u001b[0mvalue\u001b[0m\u001b[1;33m=\u001b[0m\u001b[0mxpath\u001b[0m\u001b[1;33m)\u001b[0m\u001b[1;33m\u001b[0m\u001b[1;33m\u001b[0m\u001b[0m\n\u001b[0m\u001b[0;32m    522\u001b[0m \u001b[1;33m\u001b[0m\u001b[0m\n\u001b[0;32m    523\u001b[0m     \u001b[1;32mdef\u001b[0m \u001b[0mfind_elements_by_xpath\u001b[0m\u001b[1;33m(\u001b[0m\u001b[0mself\u001b[0m\u001b[1;33m,\u001b[0m \u001b[0mxpath\u001b[0m\u001b[1;33m)\u001b[0m \u001b[1;33m->\u001b[0m \u001b[0mList\u001b[0m\u001b[1;33m[\u001b[0m\u001b[0mWebElement\u001b[0m\u001b[1;33m]\u001b[0m\u001b[1;33m:\u001b[0m\u001b[1;33m\u001b[0m\u001b[1;33m\u001b[0m\u001b[0m\n",
      "\u001b[1;32m~\\anaconda3\\lib\\site-packages\\selenium\\webdriver\\remote\\webdriver.py\u001b[0m in \u001b[0;36mfind_element\u001b[1;34m(self, by, value)\u001b[0m\n\u001b[0;32m   1246\u001b[0m             \u001b[0mvalue\u001b[0m \u001b[1;33m=\u001b[0m \u001b[1;34m'[name=\"%s\"]'\u001b[0m \u001b[1;33m%\u001b[0m \u001b[0mvalue\u001b[0m\u001b[1;33m\u001b[0m\u001b[1;33m\u001b[0m\u001b[0m\n\u001b[0;32m   1247\u001b[0m \u001b[1;33m\u001b[0m\u001b[0m\n\u001b[1;32m-> 1248\u001b[1;33m         return self.execute(Command.FIND_ELEMENT, {\n\u001b[0m\u001b[0;32m   1249\u001b[0m             \u001b[1;34m'using'\u001b[0m\u001b[1;33m:\u001b[0m \u001b[0mby\u001b[0m\u001b[1;33m,\u001b[0m\u001b[1;33m\u001b[0m\u001b[1;33m\u001b[0m\u001b[0m\n\u001b[0;32m   1250\u001b[0m             'value': value})['value']\n",
      "\u001b[1;32m~\\anaconda3\\lib\\site-packages\\selenium\\webdriver\\remote\\webdriver.py\u001b[0m in \u001b[0;36mexecute\u001b[1;34m(self, driver_command, params)\u001b[0m\n\u001b[0;32m    423\u001b[0m         \u001b[0mresponse\u001b[0m \u001b[1;33m=\u001b[0m \u001b[0mself\u001b[0m\u001b[1;33m.\u001b[0m\u001b[0mcommand_executor\u001b[0m\u001b[1;33m.\u001b[0m\u001b[0mexecute\u001b[0m\u001b[1;33m(\u001b[0m\u001b[0mdriver_command\u001b[0m\u001b[1;33m,\u001b[0m \u001b[0mparams\u001b[0m\u001b[1;33m)\u001b[0m\u001b[1;33m\u001b[0m\u001b[1;33m\u001b[0m\u001b[0m\n\u001b[0;32m    424\u001b[0m         \u001b[1;32mif\u001b[0m \u001b[0mresponse\u001b[0m\u001b[1;33m:\u001b[0m\u001b[1;33m\u001b[0m\u001b[1;33m\u001b[0m\u001b[0m\n\u001b[1;32m--> 425\u001b[1;33m             \u001b[0mself\u001b[0m\u001b[1;33m.\u001b[0m\u001b[0merror_handler\u001b[0m\u001b[1;33m.\u001b[0m\u001b[0mcheck_response\u001b[0m\u001b[1;33m(\u001b[0m\u001b[0mresponse\u001b[0m\u001b[1;33m)\u001b[0m\u001b[1;33m\u001b[0m\u001b[1;33m\u001b[0m\u001b[0m\n\u001b[0m\u001b[0;32m    426\u001b[0m             response['value'] = self._unwrap_value(\n\u001b[0;32m    427\u001b[0m                 response.get('value', None))\n",
      "\u001b[1;32m~\\anaconda3\\lib\\site-packages\\selenium\\webdriver\\remote\\errorhandler.py\u001b[0m in \u001b[0;36mcheck_response\u001b[1;34m(self, response)\u001b[0m\n\u001b[0;32m    245\u001b[0m                 \u001b[0malert_text\u001b[0m \u001b[1;33m=\u001b[0m \u001b[0mvalue\u001b[0m\u001b[1;33m[\u001b[0m\u001b[1;34m'alert'\u001b[0m\u001b[1;33m]\u001b[0m\u001b[1;33m.\u001b[0m\u001b[0mget\u001b[0m\u001b[1;33m(\u001b[0m\u001b[1;34m'text'\u001b[0m\u001b[1;33m)\u001b[0m\u001b[1;33m\u001b[0m\u001b[1;33m\u001b[0m\u001b[0m\n\u001b[0;32m    246\u001b[0m             \u001b[1;32mraise\u001b[0m \u001b[0mexception_class\u001b[0m\u001b[1;33m(\u001b[0m\u001b[0mmessage\u001b[0m\u001b[1;33m,\u001b[0m \u001b[0mscreen\u001b[0m\u001b[1;33m,\u001b[0m \u001b[0mstacktrace\u001b[0m\u001b[1;33m,\u001b[0m \u001b[0malert_text\u001b[0m\u001b[1;33m)\u001b[0m  \u001b[1;31m# type: ignore[call-arg]  # mypy is not smart enough here\u001b[0m\u001b[1;33m\u001b[0m\u001b[1;33m\u001b[0m\u001b[0m\n\u001b[1;32m--> 247\u001b[1;33m         \u001b[1;32mraise\u001b[0m \u001b[0mexception_class\u001b[0m\u001b[1;33m(\u001b[0m\u001b[0mmessage\u001b[0m\u001b[1;33m,\u001b[0m \u001b[0mscreen\u001b[0m\u001b[1;33m,\u001b[0m \u001b[0mstacktrace\u001b[0m\u001b[1;33m)\u001b[0m\u001b[1;33m\u001b[0m\u001b[1;33m\u001b[0m\u001b[0m\n\u001b[0m\u001b[0;32m    248\u001b[0m \u001b[1;33m\u001b[0m\u001b[0m\n\u001b[0;32m    249\u001b[0m     \u001b[1;32mdef\u001b[0m \u001b[0m_value_or_default\u001b[0m\u001b[1;33m(\u001b[0m\u001b[0mself\u001b[0m\u001b[1;33m,\u001b[0m \u001b[0mobj\u001b[0m\u001b[1;33m:\u001b[0m \u001b[0mMapping\u001b[0m\u001b[1;33m[\u001b[0m\u001b[0m_KT\u001b[0m\u001b[1;33m,\u001b[0m \u001b[0m_VT\u001b[0m\u001b[1;33m]\u001b[0m\u001b[1;33m,\u001b[0m \u001b[0mkey\u001b[0m\u001b[1;33m:\u001b[0m \u001b[0m_KT\u001b[0m\u001b[1;33m,\u001b[0m \u001b[0mdefault\u001b[0m\u001b[1;33m:\u001b[0m \u001b[0m_VT\u001b[0m\u001b[1;33m)\u001b[0m \u001b[1;33m->\u001b[0m \u001b[0m_VT\u001b[0m\u001b[1;33m:\u001b[0m\u001b[1;33m\u001b[0m\u001b[1;33m\u001b[0m\u001b[0m\n",
      "\u001b[1;31mNoSuchElementException\u001b[0m: Message: no such element: Unable to locate element: {\"method\":\"xpath\",\"selector\":\"//ul[@class='navigation__list showMoreEnabled']/li[1]/div[2]/div/ul/li[1]/a\"}\n  (Session info: chrome=98.0.4758.102)\nStacktrace:\nBacktrace:\n\tOrdinal0 [0x007369A3+2582947]\n\tOrdinal0 [0x006CA6D1+2139857]\n\tOrdinal0 [0x005C3A98+1063576]\n\tOrdinal0 [0x005EFF3E+1244990]\n\tOrdinal0 [0x005F013B+1245499]\n\tOrdinal0 [0x00619F52+1417042]\n\tOrdinal0 [0x00608594+1344916]\n\tOrdinal0 [0x0061834A+1409866]\n\tOrdinal0 [0x00608366+1344358]\n\tOrdinal0 [0x005E5176+1200502]\n\tOrdinal0 [0x005E6066+1204326]\n\tGetHandleVerifier [0x008DBE02+1675858]\n\tGetHandleVerifier [0x0099036C+2414524]\n\tGetHandleVerifier [0x007CBB01+560977]\n\tGetHandleVerifier [0x007CA8D3+556323]\n\tOrdinal0 [0x006D020E+2163214]\n\tOrdinal0 [0x006D5078+2183288]\n\tOrdinal0 [0x006D51C0+2183616]\n\tOrdinal0 [0x006DEE1C+2223644]\n\tBaseThreadInitThunk [0x768FFA29+25]\n\tRtlGetAppContainerNamedObjectPath [0x774B7A9E+286]\n\tRtlGetAppContainerNamedObjectPath [0x774B7A6E+238]\n"
     ]
    }
   ],
   "source": [
    "international=driver.find_element_by_xpath(\"//ul[@class='navigation__list showMoreEnabled']/li[1]/div[2]/div/ul/li[1]/a\")\n"
   ]
  },
  {
   "cell_type": "code",
   "execution_count": null,
   "id": "6ea4f284",
   "metadata": {},
   "outputs": [],
   "source": [
    "#Creating empty lists for storing the scrapped data\n",
    "Match=[]\n",
    "Series=[]\n",
    "Place=[]\n",
    "Date=[]\n",
    "Time=[]"
   ]
  },
  {
   "cell_type": "code",
   "execution_count": 111,
   "id": "94e91065",
   "metadata": {},
   "outputs": [
    {
     "name": "stderr",
     "output_type": "stream",
     "text": [
      "<ipython-input-111-cd58b8136b81>:1: DeprecationWarning: find_elements_by_xpath is deprecated. Please use find_elements(by=By.XPATH, value=xpath) instead\n",
      "  name=driver.find_elements_by_xpath(\"//strong[@class='fixture__name fixture__name--with-margin']\")\n"
     ]
    }
   ],
   "source": [
    "name=driver.find_elements_by_xpath(\"//strong[@class='fixture__name fixture__name--with-margin']\")\n",
    "for i in name:\n",
    "    Match.append(i.text)\n",
    "    \n"
   ]
  },
  {
   "cell_type": "code",
   "execution_count": 112,
   "id": "6d5801fc",
   "metadata": {},
   "outputs": [
    {
     "name": "stderr",
     "output_type": "stream",
     "text": [
      "<ipython-input-112-18df0ceea3f1>:2: DeprecationWarning: find_elements_by_xpath is deprecated. Please use find_elements(by=By.XPATH, value=xpath) instead\n",
      "  series=driver.find_elements_by_xpath(\"//div[@class='fixture__format-strip']/span[2]\")\n"
     ]
    }
   ],
   "source": [
    "#Scrapping the data having the series name\n",
    "series=driver.find_elements_by_xpath(\"//div[@class='fixture__format-strip']/span[2]\")\n",
    "for i in series:\n",
    "    Series.append(i.text)"
   ]
  },
  {
   "cell_type": "code",
   "execution_count": 113,
   "id": "a0f2220b",
   "metadata": {},
   "outputs": [
    {
     "name": "stderr",
     "output_type": "stream",
     "text": [
      "<ipython-input-113-dbaf04e11e6f>:2: DeprecationWarning: find_elements_by_xpath is deprecated. Please use find_elements(by=By.XPATH, value=xpath) instead\n",
      "  place=driver.find_elements_by_xpath(\"//p[@class='fixture__additional-info']/span\")\n"
     ]
    }
   ],
   "source": [
    "#Scrapping the data having the place of match\n",
    "place=driver.find_elements_by_xpath(\"//p[@class='fixture__additional-info']/span\")\n",
    "for i in place:\n",
    "    Place.append(i.text)"
   ]
  },
  {
   "cell_type": "code",
   "execution_count": 114,
   "id": "9135acf1",
   "metadata": {},
   "outputs": [
    {
     "name": "stderr",
     "output_type": "stream",
     "text": [
      "<ipython-input-114-31bba1cf0099>:2: DeprecationWarning: find_elements_by_xpath is deprecated. Please use find_elements(by=By.XPATH, value=xpath) instead\n",
      "  date=driver.find_elements_by_xpath(\"//div[@class='fixture__datetime desktop-only']/div/span\")  #Only date\n",
      "<ipython-input-114-31bba1cf0099>:3: DeprecationWarning: find_elements_by_xpath is deprecated. Please use find_elements(by=By.XPATH, value=xpath) instead\n",
      "  month=driver.find_elements_by_xpath(\"//div[@class='fixture__datetime desktop-only']/div/div/span[1]\")  #Month\n"
     ]
    }
   ],
   "source": [
    "#Scrapping the data having the match date\n",
    "date=driver.find_elements_by_xpath(\"//div[@class='fixture__datetime desktop-only']/div/span\")  #Only date\n",
    "month=driver.find_elements_by_xpath(\"//div[@class='fixture__datetime desktop-only']/div/div/span[1]\")  #Month\n",
    "for i in range(len(date)):\n",
    "    Date.append(date[i].text + month[i].text)"
   ]
  },
  {
   "cell_type": "code",
   "execution_count": 115,
   "id": "0b54c8f1",
   "metadata": {},
   "outputs": [
    {
     "name": "stderr",
     "output_type": "stream",
     "text": [
      "<ipython-input-115-43a4105b78ab>:2: DeprecationWarning: find_elements_by_xpath is deprecated. Please use find_elements(by=By.XPATH, value=xpath) instead\n",
      "  time=driver.find_elements_by_xpath(\"//div[@class='fixture__full-date']/div/span[2]\")\n"
     ]
    }
   ],
   "source": [
    "#Scrapping the data having match time\n",
    "time=driver.find_elements_by_xpath(\"//div[@class='fixture__full-date']/div/span[2]\")\n",
    "for i in time:\n",
    "    Time.append(i.text)"
   ]
  },
  {
   "cell_type": "code",
   "execution_count": 118,
   "id": "2ea3845d",
   "metadata": {
    "scrolled": true
   },
   "outputs": [
    {
     "ename": "NameError",
     "evalue": "name 'Match' is not defined",
     "output_type": "error",
     "traceback": [
      "\u001b[1;31m---------------------------------------------------------------------------\u001b[0m",
      "\u001b[1;31mNameError\u001b[0m                                 Traceback (most recent call last)",
      "\u001b[1;32m<ipython-input-118-94080764786b>\u001b[0m in \u001b[0;36m<module>\u001b[1;34m\u001b[0m\n\u001b[0;32m      1\u001b[0m \u001b[1;31m#Creating a Dataframe for the scrapped data\u001b[0m\u001b[1;33m\u001b[0m\u001b[1;33m\u001b[0m\u001b[1;33m\u001b[0m\u001b[0m\n\u001b[0;32m      2\u001b[0m \u001b[0mfixtures\u001b[0m\u001b[1;33m=\u001b[0m\u001b[0mpd\u001b[0m\u001b[1;33m.\u001b[0m\u001b[0mDataFrame\u001b[0m\u001b[1;33m(\u001b[0m\u001b[1;33m{\u001b[0m\u001b[1;33m}\u001b[0m\u001b[1;33m)\u001b[0m\u001b[1;33m\u001b[0m\u001b[1;33m\u001b[0m\u001b[0m\n\u001b[1;32m----> 3\u001b[1;33m \u001b[0mfixtures\u001b[0m\u001b[1;33m[\u001b[0m\u001b[1;34m'Match name'\u001b[0m\u001b[1;33m]\u001b[0m\u001b[1;33m=\u001b[0m\u001b[0mMatch\u001b[0m\u001b[1;33m\u001b[0m\u001b[1;33m\u001b[0m\u001b[0m\n\u001b[0m\u001b[0;32m      4\u001b[0m \u001b[0mfixtures\u001b[0m\u001b[1;33m[\u001b[0m\u001b[1;34m'Series'\u001b[0m\u001b[1;33m]\u001b[0m\u001b[1;33m=\u001b[0m\u001b[0mSeries\u001b[0m\u001b[1;33m\u001b[0m\u001b[1;33m\u001b[0m\u001b[0m\n\u001b[0;32m      5\u001b[0m \u001b[0mfixtures\u001b[0m\u001b[1;33m[\u001b[0m\u001b[1;34m'Place'\u001b[0m\u001b[1;33m]\u001b[0m\u001b[1;33m=\u001b[0m\u001b[0mPlace\u001b[0m\u001b[1;33m\u001b[0m\u001b[1;33m\u001b[0m\u001b[0m\n",
      "\u001b[1;31mNameError\u001b[0m: name 'Match' is not defined"
     ]
    }
   ],
   "source": [
    "#Creating a Dataframe for the scrapped data\n",
    "fixtures=pd.DataFrame({})\n",
    "fixtures['Match name']=Match\n",
    "fixtures['Series']=Series\n",
    "fixtures['Place']=Place\n",
    "fixtures['Date']=Date\n",
    "fixtures['Time']=Time\n",
    "fixtures"
   ]
  },
  {
   "cell_type": "markdown",
   "id": "45a81430",
   "metadata": {},
   "source": [
    "## 3.Scrape the details of selenium exception from guru99.com.\n",
    "\n",
    "Url = https://www.guru99.com/\n",
    "\n",
    "You need to find following details:\n",
    "\n",
    "A) Name\n",
    "\n",
    "B) Description\n",
    "\n",
    "Note: - From guru99 home page you have to reach to selenium exception handling page through code."
   ]
  },
  {
   "cell_type": "code",
   "execution_count": 35,
   "id": "a4c5e832",
   "metadata": {},
   "outputs": [],
   "source": [
    "import selenium\n",
    "import pandas as pd\n",
    "from selenium import webdriver\n",
    "from selenium.common.exceptions import NoSuchElementException, ElementNotInteractableException"
   ]
  },
  {
   "cell_type": "code",
   "execution_count": 36,
   "id": "31e7ad74",
   "metadata": {},
   "outputs": [
    {
     "name": "stderr",
     "output_type": "stream",
     "text": [
      "<ipython-input-36-311fccbdc7ca>:1: DeprecationWarning: executable_path has been deprecated, please pass in a Service object\n",
      "  driver = webdriver.Chrome('Chromedriver.exe')\n"
     ]
    }
   ],
   "source": [
    "driver = webdriver.Chrome('Chromedriver.exe')"
   ]
  },
  {
   "cell_type": "code",
   "execution_count": 37,
   "id": "b5e5ded1",
   "metadata": {},
   "outputs": [],
   "source": [
    "driver.get('https://www.guru99.com/')"
   ]
  },
  {
   "cell_type": "code",
   "execution_count": 38,
   "id": "f5352a7b",
   "metadata": {},
   "outputs": [],
   "source": [
    "Name=[]\n",
    "Description=[]"
   ]
  },
  {
   "cell_type": "code",
   "execution_count": 39,
   "id": "c275b9fc",
   "metadata": {},
   "outputs": [
    {
     "name": "stderr",
     "output_type": "stream",
     "text": [
      "<ipython-input-39-719384faa28b>:1: DeprecationWarning: find_elements_by_xpath is deprecated. Please use find_elements(by=By.XPATH, value=xpath) instead\n",
      "  name=driver.find_elements_by_xpath(\"//table[@class='table table-striped']/tbody/tr/td[1]\")\n"
     ]
    }
   ],
   "source": [
    "name=driver.find_elements_by_xpath(\"//table[@class='table table-striped']/tbody/tr/td[1]\")\n",
    "for i in name:\n",
    "    Name.append(i.text)"
   ]
  },
  {
   "cell_type": "code",
   "execution_count": 40,
   "id": "04bda37a",
   "metadata": {
    "scrolled": true
   },
   "outputs": [
    {
     "name": "stderr",
     "output_type": "stream",
     "text": [
      "<ipython-input-40-d1419db2be65>:1: DeprecationWarning: find_elements_by_xpath is deprecated. Please use find_elements(by=By.XPATH, value=xpath) instead\n",
      "  desc=driver.find_elements_by_xpath(\"//table[@class='table table-striped']/tbody/tr/td[2]\")\n"
     ]
    }
   ],
   "source": [
    "desc=driver.find_elements_by_xpath(\"//table[@class='table table-striped']/tbody/tr/td[2]\")\n",
    "for i in desc:\n",
    "    Description.append(i.text)"
   ]
  },
  {
   "cell_type": "code",
   "execution_count": 44,
   "id": "b26cba32",
   "metadata": {},
   "outputs": [
    {
     "name": "stdout",
     "output_type": "stream",
     "text": [
      "0 0\n"
     ]
    }
   ],
   "source": [
    "print(len(Name),len(desc))"
   ]
  },
  {
   "cell_type": "code",
   "execution_count": 45,
   "id": "52bf3e53",
   "metadata": {},
   "outputs": [
    {
     "data": {
      "text/html": [
       "<div>\n",
       "<style scoped>\n",
       "    .dataframe tbody tr th:only-of-type {\n",
       "        vertical-align: middle;\n",
       "    }\n",
       "\n",
       "    .dataframe tbody tr th {\n",
       "        vertical-align: top;\n",
       "    }\n",
       "\n",
       "    .dataframe thead th {\n",
       "        text-align: right;\n",
       "    }\n",
       "</style>\n",
       "<table border=\"1\" class=\"dataframe\">\n",
       "  <thead>\n",
       "    <tr style=\"text-align: right;\">\n",
       "      <th></th>\n",
       "      <th>Exception Name</th>\n",
       "      <th>Description</th>\n",
       "    </tr>\n",
       "  </thead>\n",
       "  <tbody>\n",
       "  </tbody>\n",
       "</table>\n",
       "</div>"
      ],
      "text/plain": [
       "Empty DataFrame\n",
       "Columns: [Exception Name, Description]\n",
       "Index: []"
      ]
     },
     "execution_count": 45,
     "metadata": {},
     "output_type": "execute_result"
    }
   ],
   "source": [
    "#Creating a dataframe for the scrapped data\n",
    "guru99=pd.DataFrame({})\n",
    "guru99['Exception Name']=Name[1:]\n",
    "guru99['Description']=Description[1:]\n",
    "guru99"
   ]
  },
  {
   "cell_type": "markdown",
   "id": "6d1def40",
   "metadata": {},
   "source": [
    "#4. Scrape the details of State-wise GDP of India from statisticstime.com.\n",
    "Url = http://statisticstimes.com/\n",
    "You have to find following details:\n",
    "A) Rank\n",
    "B) State\n",
    "C) GSDP\n",
    "D) GSDP\n",
    "E) Share\n",
    "F) GDP($ billion)\n",
    "Note: - From statisticstimes home page you have to reach to economy page through code.\n"
   ]
  },
  {
   "cell_type": "code",
   "execution_count": 46,
   "id": "66121c4a",
   "metadata": {},
   "outputs": [
    {
     "name": "stderr",
     "output_type": "stream",
     "text": [
      "<ipython-input-46-311fccbdc7ca>:1: DeprecationWarning: executable_path has been deprecated, please pass in a Service object\n",
      "  driver = webdriver.Chrome('Chromedriver.exe')\n"
     ]
    }
   ],
   "source": [
    "driver = webdriver.Chrome('Chromedriver.exe')"
   ]
  },
  {
   "cell_type": "code",
   "execution_count": 47,
   "id": "5400e675",
   "metadata": {},
   "outputs": [],
   "source": [
    "driver.get('http://statisticstimes.com/')"
   ]
  },
  {
   "cell_type": "code",
   "execution_count": 48,
   "id": "abdd43e1",
   "metadata": {},
   "outputs": [
    {
     "name": "stderr",
     "output_type": "stream",
     "text": [
      "<ipython-input-48-5ad7df73b74f>:2: DeprecationWarning: find_element_by_xpath is deprecated. Please use find_element(by=By.XPATH, value=xpath) instead\n",
      "  economy=driver.find_element_by_xpath(\"//div[@class='navbar']/div[2]/div/a[3]\")\n"
     ]
    }
   ],
   "source": [
    "#Clicking the economy tab and then India option\n",
    "economy=driver.find_element_by_xpath(\"//div[@class='navbar']/div[2]/div/a[3]\")\n",
    "try:\n",
    "    economy.click()\n",
    "except ElementNotInteractableException:\n",
    "    driver.get(economy.get_attribute('href'))"
   ]
  },
  {
   "cell_type": "code",
   "execution_count": 49,
   "id": "5acedd5b",
   "metadata": {},
   "outputs": [
    {
     "name": "stderr",
     "output_type": "stream",
     "text": [
      "<ipython-input-49-e9a0d16dc0de>:2: DeprecationWarning: find_element_by_xpath is deprecated. Please use find_element(by=By.XPATH, value=xpath) instead\n",
      "  gdp=driver.find_element_by_xpath(\"//div[@style='float:left;background-color:seashell;width:400px;height:800px;']/ul/li[1]\")\n"
     ]
    }
   ],
   "source": [
    "#Clicking on GDP of Indian states option\n",
    "gdp=driver.find_element_by_xpath(\"//div[@style='float:left;background-color:seashell;width:400px;height:800px;']/ul/li[1]\")\n",
    "try:\n",
    "    gdp.click()\n",
    "except ElementNotInteractableException:\n",
    "    driver.get(gdp.get_attribute('href')) "
   ]
  },
  {
   "cell_type": "code",
   "execution_count": 50,
   "id": "fa60d6dd",
   "metadata": {},
   "outputs": [
    {
     "name": "stderr",
     "output_type": "stream",
     "text": [
      "<ipython-input-50-386a0e037e37>:10: DeprecationWarning: find_elements_by_xpath is deprecated. Please use find_elements(by=By.XPATH, value=xpath) instead\n",
      "  rank=driver.find_elements_by_xpath(\"//table[@class='display dataTable']/tbody/tr/td[1]\")\n",
      "<ipython-input-50-386a0e037e37>:15: DeprecationWarning: find_elements_by_xpath is deprecated. Please use find_elements(by=By.XPATH, value=xpath) instead\n",
      "  state=driver.find_elements_by_xpath(\"//table[@class='display dataTable']/tbody/tr/td[2]\")\n",
      "<ipython-input-50-386a0e037e37>:20: DeprecationWarning: find_elements_by_xpath is deprecated. Please use find_elements(by=By.XPATH, value=xpath) instead\n",
      "  for i in driver.find_elements_by_xpath(\"//table[@class='display dataTable']/tbody/tr/td[3]\"):\n",
      "<ipython-input-50-386a0e037e37>:24: DeprecationWarning: find_elements_by_xpath is deprecated. Please use find_elements(by=By.XPATH, value=xpath) instead\n",
      "  for i in driver.find_elements_by_xpath(\"//table[@class='display dataTable']/tbody/tr/td[4]\"):\n",
      "<ipython-input-50-386a0e037e37>:28: DeprecationWarning: find_elements_by_xpath is deprecated. Please use find_elements(by=By.XPATH, value=xpath) instead\n",
      "  for i in driver.find_elements_by_xpath(\"//table[@class='display dataTable']/tbody/tr/td[5]\"):\n",
      "<ipython-input-50-386a0e037e37>:32: DeprecationWarning: find_elements_by_xpath is deprecated. Please use find_elements(by=By.XPATH, value=xpath) instead\n",
      "  for i in driver.find_elements_by_xpath(\"//table[@class='display dataTable']/tbody/tr/td[6]\"):\n"
     ]
    }
   ],
   "source": [
    "#Creating empty lists for storing the scrapped data\n",
    "Rank=[]\n",
    "State=[]\n",
    "GSDP19_20=[]\n",
    "GSDP18_19=[]\n",
    "Share18_19=[]\n",
    "GDP=[]\n",
    "\n",
    "#Scrapping the data having rank of the states\n",
    "rank=driver.find_elements_by_xpath(\"//table[@class='display dataTable']/tbody/tr/td[1]\")\n",
    "for i in rank:\n",
    "    Rank.append(i.text)\n",
    "    \n",
    "#Scrapping the data having State name\n",
    "state=driver.find_elements_by_xpath(\"//table[@class='display dataTable']/tbody/tr/td[2]\")\n",
    "for i in state:\n",
    "    State.append(i.text)\n",
    "    \n",
    "#Scrapping the data having GSDP 19-20 data\n",
    "for i in driver.find_elements_by_xpath(\"//table[@class='display dataTable']/tbody/tr/td[3]\"):\n",
    "    GSDP19_20.append(i.text)\n",
    "    \n",
    "#Scrapping the data having GSDP 18-19 data\n",
    "for i in driver.find_elements_by_xpath(\"//table[@class='display dataTable']/tbody/tr/td[4]\"):\n",
    "    GSDP18_19.append(i.text)\n",
    "    \n",
    "#Scrapping the data having Share 18-19 data\n",
    "for i in driver.find_elements_by_xpath(\"//table[@class='display dataTable']/tbody/tr/td[5]\"):\n",
    "    Share18_19.append(i.text)\n",
    "    \n",
    "#Scrapping the data having GDP billions data\n",
    "for i in driver.find_elements_by_xpath(\"//table[@class='display dataTable']/tbody/tr/td[6]\"):\n",
    "    GDP.append(i.text)"
   ]
  },
  {
   "cell_type": "code",
   "execution_count": 51,
   "id": "c309de0d",
   "metadata": {},
   "outputs": [
    {
     "data": {
      "text/html": [
       "<div>\n",
       "<style scoped>\n",
       "    .dataframe tbody tr th:only-of-type {\n",
       "        vertical-align: middle;\n",
       "    }\n",
       "\n",
       "    .dataframe tbody tr th {\n",
       "        vertical-align: top;\n",
       "    }\n",
       "\n",
       "    .dataframe thead th {\n",
       "        text-align: right;\n",
       "    }\n",
       "</style>\n",
       "<table border=\"1\" class=\"dataframe\">\n",
       "  <thead>\n",
       "    <tr style=\"text-align: right;\">\n",
       "      <th></th>\n",
       "      <th>Rank</th>\n",
       "      <th>State</th>\n",
       "      <th>GSDP(19-20)</th>\n",
       "      <th>GSDP(18-19)</th>\n",
       "      <th>Share(18-19)</th>\n",
       "      <th>GDP($ billion)</th>\n",
       "    </tr>\n",
       "  </thead>\n",
       "  <tbody>\n",
       "    <tr>\n",
       "      <th>0</th>\n",
       "      <td>1</td>\n",
       "      <td>Maharashtra</td>\n",
       "      <td>-</td>\n",
       "      <td>2,632,792</td>\n",
       "      <td>13.94%</td>\n",
       "      <td>399.921</td>\n",
       "    </tr>\n",
       "    <tr>\n",
       "      <th>1</th>\n",
       "      <td>2</td>\n",
       "      <td>Tamil Nadu</td>\n",
       "      <td>1,845,853</td>\n",
       "      <td>1,630,208</td>\n",
       "      <td>8.63%</td>\n",
       "      <td>247.629</td>\n",
       "    </tr>\n",
       "    <tr>\n",
       "      <th>2</th>\n",
       "      <td>3</td>\n",
       "      <td>Uttar Pradesh</td>\n",
       "      <td>1,687,818</td>\n",
       "      <td>1,584,764</td>\n",
       "      <td>8.39%</td>\n",
       "      <td>240.726</td>\n",
       "    </tr>\n",
       "    <tr>\n",
       "      <th>3</th>\n",
       "      <td>4</td>\n",
       "      <td>Gujarat</td>\n",
       "      <td>-</td>\n",
       "      <td>1,502,899</td>\n",
       "      <td>7.96%</td>\n",
       "      <td>228.290</td>\n",
       "    </tr>\n",
       "    <tr>\n",
       "      <th>4</th>\n",
       "      <td>5</td>\n",
       "      <td>Karnataka</td>\n",
       "      <td>1,631,977</td>\n",
       "      <td>1,493,127</td>\n",
       "      <td>7.91%</td>\n",
       "      <td>226.806</td>\n",
       "    </tr>\n",
       "    <tr>\n",
       "      <th>...</th>\n",
       "      <td>...</td>\n",
       "      <td>...</td>\n",
       "      <td>...</td>\n",
       "      <td>...</td>\n",
       "      <td>...</td>\n",
       "      <td>...</td>\n",
       "    </tr>\n",
       "    <tr>\n",
       "      <th>61</th>\n",
       "      <td>29</td>\n",
       "      <td>Sikkim</td>\n",
       "      <td>28,391</td>\n",
       "      <td>25,141</td>\n",
       "      <td>0.15%</td>\n",
       "      <td>17,060</td>\n",
       "    </tr>\n",
       "    <tr>\n",
       "      <th>62</th>\n",
       "      <td>30</td>\n",
       "      <td>Nagaland</td>\n",
       "      <td>-</td>\n",
       "      <td>24,534</td>\n",
       "      <td>0.15%</td>\n",
       "      <td>-</td>\n",
       "    </tr>\n",
       "    <tr>\n",
       "      <th>63</th>\n",
       "      <td>31</td>\n",
       "      <td>Arunachal Pradesh</td>\n",
       "      <td>-</td>\n",
       "      <td>22,488</td>\n",
       "      <td>0.13%</td>\n",
       "      <td>-</td>\n",
       "    </tr>\n",
       "    <tr>\n",
       "      <th>64</th>\n",
       "      <td>32</td>\n",
       "      <td>Mizoram</td>\n",
       "      <td>24,424</td>\n",
       "      <td>20,947</td>\n",
       "      <td>0.13%</td>\n",
       "      <td>17,797</td>\n",
       "    </tr>\n",
       "    <tr>\n",
       "      <th>65</th>\n",
       "      <td>33</td>\n",
       "      <td>Andaman &amp; Nicobar Islands</td>\n",
       "      <td>-</td>\n",
       "      <td>-</td>\n",
       "      <td>-</td>\n",
       "      <td>-</td>\n",
       "    </tr>\n",
       "  </tbody>\n",
       "</table>\n",
       "<p>66 rows × 6 columns</p>\n",
       "</div>"
      ],
      "text/plain": [
       "   Rank                      State GSDP(19-20) GSDP(18-19) Share(18-19)  \\\n",
       "0     1                Maharashtra           -   2,632,792       13.94%   \n",
       "1     2                 Tamil Nadu   1,845,853   1,630,208        8.63%   \n",
       "2     3              Uttar Pradesh   1,687,818   1,584,764        8.39%   \n",
       "3     4                    Gujarat           -   1,502,899        7.96%   \n",
       "4     5                  Karnataka   1,631,977   1,493,127        7.91%   \n",
       "..  ...                        ...         ...         ...          ...   \n",
       "61   29                     Sikkim      28,391      25,141        0.15%   \n",
       "62   30                   Nagaland           -      24,534        0.15%   \n",
       "63   31          Arunachal Pradesh           -      22,488        0.13%   \n",
       "64   32                    Mizoram      24,424      20,947        0.13%   \n",
       "65   33  Andaman & Nicobar Islands           -           -            -   \n",
       "\n",
       "   GDP($ billion)  \n",
       "0         399.921  \n",
       "1         247.629  \n",
       "2         240.726  \n",
       "3         228.290  \n",
       "4         226.806  \n",
       "..            ...  \n",
       "61         17,060  \n",
       "62              -  \n",
       "63              -  \n",
       "64         17,797  \n",
       "65              -  \n",
       "\n",
       "[66 rows x 6 columns]"
      ]
     },
     "execution_count": 51,
     "metadata": {},
     "output_type": "execute_result"
    }
   ],
   "source": [
    "#Creating a dataframe for the scrapped data\n",
    "GDP_data=pd.DataFrame({'Rank':Rank,'State':State,'GSDP(19-20)':GSDP19_20,'GSDP(18-19)':GSDP18_19,'Share(18-19)':Share18_19,\n",
    "                      'GDP($ billion)':GDP})\n",
    "GDP_data"
   ]
  },
  {
   "cell_type": "code",
   "execution_count": 52,
   "id": "89246637",
   "metadata": {},
   "outputs": [],
   "source": [
    "#Closing the driver\n",
    "driver.close()"
   ]
  },
  {
   "cell_type": "code",
   "execution_count": 53,
   "id": "63d6349c",
   "metadata": {},
   "outputs": [
    {
     "name": "stderr",
     "output_type": "stream",
     "text": [
      "<ipython-input-53-311fccbdc7ca>:1: DeprecationWarning: executable_path has been deprecated, please pass in a Service object\n",
      "  driver = webdriver.Chrome('Chromedriver.exe')\n"
     ]
    }
   ],
   "source": [
    "driver = webdriver.Chrome('Chromedriver.exe')"
   ]
  },
  {
   "cell_type": "markdown",
   "id": "29acec3f",
   "metadata": {},
   "source": [
    "## Scrape the details of trending repositories on Github.com.\n",
    "Url = https://github.com/\n",
    "You have to find the following details:\n",
    "A) Repository title\n",
    "B) Repository description\n",
    "C) Contributors count\n",
    "D) Language used\n"
   ]
  },
  {
   "cell_type": "code",
   "execution_count": 54,
   "id": "21c82183",
   "metadata": {},
   "outputs": [],
   "source": [
    "driver.get('https://github.com/')"
   ]
  },
  {
   "cell_type": "code",
   "execution_count": 59,
   "id": "8865dfab",
   "metadata": {
    "scrolled": true
   },
   "outputs": [
    {
     "name": "stderr",
     "output_type": "stream",
     "text": [
      "<ipython-input-59-f6ff08ceb434>:8: DeprecationWarning: find_elements_by_xpath is deprecated. Please use find_elements(by=By.XPATH, value=xpath) instead\n",
      "  title=driver.find_elements_by_xpath(\"//h1[@class='h3 lh-condensed']/a\")\n",
      "<ipython-input-59-f6ff08ceb434>:13: DeprecationWarning: find_elements_by_xpath is deprecated. Please use find_elements(by=By.XPATH, value=xpath) instead\n",
      "  desc=driver.find_elements_by_xpath(\"//p[@class='col-9 color-text-secondary my-1 pr-4']\")\n",
      "<ipython-input-59-f6ff08ceb434>:18: DeprecationWarning: find_elements_by_xpath is deprecated. Please use find_elements(by=By.XPATH, value=xpath) instead\n",
      "  count=driver.find_elements_by_xpath(\"//div[@class='f6 color-text-secondary mt-2']/a[2]\")\n",
      "<ipython-input-59-f6ff08ceb434>:23: DeprecationWarning: find_elements_by_xpath is deprecated. Please use find_elements(by=By.XPATH, value=xpath) instead\n",
      "  lang=driver.find_elements_by_xpath(\"//span[@class='d-inline-block ml-0 mr-3']\")\n"
     ]
    }
   ],
   "source": [
    "#Creating empty lists for storing the scrapped data\n",
    "rep_title=[]\n",
    "rep_desc=[]\n",
    "Count=[]\n",
    "Lang=[]\n",
    "\n",
    "#Scrapping the data having the repository title\n",
    "title=driver.find_elements_by_xpath(\"//h1[@class='h3 lh-condensed']/a\")\n",
    "for i in title:\n",
    "    rep_title.append(i.text)\n",
    "    \n",
    "#Scrapping the data having the repository description\n",
    "desc=driver.find_elements_by_xpath(\"//p[@class='col-9 color-text-secondary my-1 pr-4']\")\n",
    "for i in desc:\n",
    "    rep_desc.append(i.text)\n",
    "    \n",
    "#Scrapping the data having the contributors count\n",
    "count=driver.find_elements_by_xpath(\"//div[@class='f6 color-text-secondary mt-2']/a[2]\")\n",
    "for i in count:\n",
    "    Count.append(i.text)\n",
    "    \n",
    "#Scrapping the data having the language used \n",
    "lang=driver.find_elements_by_xpath(\"//span[@class='d-inline-block ml-0 mr-3']\")\n",
    "for i in lang:\n",
    "    if i.text is None:\n",
    "        Lang.append('Not Available')\n",
    "    else:\n",
    "        Lang.append(i.text)"
   ]
  },
  {
   "cell_type": "code",
   "execution_count": 58,
   "id": "b07d6913",
   "metadata": {},
   "outputs": [
    {
     "name": "stdout",
     "output_type": "stream",
     "text": [
      "25 0 0 19\n"
     ]
    }
   ],
   "source": [
    "#Checking out the length of scrapped data\n",
    "print(len(rep_title),len(rep_desc),len(Count),len(Lang))"
   ]
  },
  {
   "cell_type": "code",
   "execution_count": null,
   "id": "69563d60",
   "metadata": {},
   "outputs": [],
   "source": [
    "#Creating a dataframe for the scrapped data\n",
    "github=pd.DataFrame({})\n",
    "github['Repository title']=rep_title[:21]\n",
    "github['Description']=rep_desc[:21]\n",
    "github['Contributors count']=Count[:21]\n",
    "github['Language used']=Lang\n",
    "github"
   ]
  },
  {
   "cell_type": "code",
   "execution_count": null,
   "id": "8a356a98",
   "metadata": {},
   "outputs": [],
   "source": [
    "#Closing the driver\n",
    "driver.close()"
   ]
  },
  {
   "cell_type": "markdown",
   "id": "841d9f22",
   "metadata": {},
   "source": [
    "##. Scrape the details of top 100 songs on billiboard.com.\n",
    "Url = https:/www.billboard.com/\n",
    "You have to find the following details:\n",
    "A) Song name\n",
    "B) Artist name\n",
    "C) Last week rank\n",
    "D) Peak rank\n",
    "E) Weeks on board\n",
    "Note: - From the home page you have to click on the charts option then hot 100-page link through code."
   ]
  },
  {
   "cell_type": "code",
   "execution_count": 71,
   "id": "79582813",
   "metadata": {},
   "outputs": [
    {
     "name": "stderr",
     "output_type": "stream",
     "text": [
      "<ipython-input-71-311fccbdc7ca>:1: DeprecationWarning: executable_path has been deprecated, please pass in a Service object\n",
      "  driver = webdriver.Chrome('Chromedriver.exe')\n"
     ]
    }
   ],
   "source": [
    "driver = webdriver.Chrome('Chromedriver.exe')"
   ]
  },
  {
   "cell_type": "code",
   "execution_count": 72,
   "id": "56c2e459",
   "metadata": {},
   "outputs": [],
   "source": [
    "driver.get('https://www.billboard.com/')"
   ]
  },
  {
   "cell_type": "code",
   "execution_count": 76,
   "id": "2b5ea1a0",
   "metadata": {},
   "outputs": [
    {
     "name": "stderr",
     "output_type": "stream",
     "text": [
      "<ipython-input-76-4697f4b417b4>:9: DeprecationWarning: find_elements_by_xpath is deprecated. Please use find_elements(by=By.XPATH, value=xpath) instead\n",
      "  song=driver.find_elements_by_xpath(\"//span[@class='chart-element__information__song text--truncate color--primary']\")\n",
      "<ipython-input-76-4697f4b417b4>:14: DeprecationWarning: find_elements_by_xpath is deprecated. Please use find_elements(by=By.XPATH, value=xpath) instead\n",
      "  artist=driver.find_elements_by_xpath(\"//span[@class='chart-element__information__artist text--truncate color--secondary']\")\n",
      "<ipython-input-76-4697f4b417b4>:19: DeprecationWarning: find_elements_by_xpath is deprecated. Please use find_elements(by=By.XPATH, value=xpath) instead\n",
      "  last_week=driver.find_elements_by_xpath(\"//div[@class='chart-element__meta text--center color--secondary text--last']\")\n",
      "<ipython-input-76-4697f4b417b4>:27: DeprecationWarning: find_elements_by_xpath is deprecated. Please use find_elements(by=By.XPATH, value=xpath) instead\n",
      "  peak=driver.find_elements_by_xpath(\"//div[@class='chart-element__meta text--center color--secondary text--peak']\")\n",
      "<ipython-input-76-4697f4b417b4>:35: DeprecationWarning: find_elements_by_xpath is deprecated. Please use find_elements(by=By.XPATH, value=xpath) instead\n",
      "  weeks=driver.find_elements_by_xpath(\"//div[@class='chart-element__meta text--center color--secondary text--week']\")\n"
     ]
    }
   ],
   "source": [
    "#Creating empty lists for storing the scrapped data\n",
    "Song=[]\n",
    "Artist=[]\n",
    "Lastweek=[]\n",
    "Peak=[]\n",
    "Weeks_on_board=[]\n",
    "\n",
    "#Scrapping the data having the song name\n",
    "song=driver.find_elements_by_xpath(\"//span[@class='chart-element__information__song text--truncate color--primary']\")\n",
    "for i in song:\n",
    "    Song.append(i.text)\n",
    "    \n",
    "#Scrapping the data having the artist name\n",
    "artist=driver.find_elements_by_xpath(\"//span[@class='chart-element__information__artist text--truncate color--secondary']\")\n",
    "for i in artist:\n",
    "    Artist.append(i.text)\n",
    "    \n",
    "#Scrapping the data having the last week rank\n",
    "last_week=driver.find_elements_by_xpath(\"//div[@class='chart-element__meta text--center color--secondary text--last']\")\n",
    "for i in last_week:\n",
    "    if i.text is None:\n",
    "        Lastweek.append('-')\n",
    "    else:\n",
    "        Lastweek.append(i.text)\n",
    "        \n",
    "#Scrapping the data having the peak rank\n",
    "peak=driver.find_elements_by_xpath(\"//div[@class='chart-element__meta text--center color--secondary text--peak']\")\n",
    "for i in peak:\n",
    "    if i.text is None:\n",
    "        Peak.append('-')\n",
    "    else:\n",
    "        Peak.append(i.text)\n",
    "        \n",
    "#Scrapping the data having weeks on board data\n",
    "weeks=driver.find_elements_by_xpath(\"//div[@class='chart-element__meta text--center color--secondary text--week']\")\n",
    "for i in weeks:\n",
    "    if i.text is None:\n",
    "        Weeks_on_board.append('-')\n",
    "    else:\n",
    "        Weeks_on_board.append(i.text)"
   ]
  },
  {
   "cell_type": "code",
   "execution_count": 77,
   "id": "0458a93a",
   "metadata": {},
   "outputs": [
    {
     "data": {
      "text/html": [
       "<div>\n",
       "<style scoped>\n",
       "    .dataframe tbody tr th:only-of-type {\n",
       "        vertical-align: middle;\n",
       "    }\n",
       "\n",
       "    .dataframe tbody tr th {\n",
       "        vertical-align: top;\n",
       "    }\n",
       "\n",
       "    .dataframe thead th {\n",
       "        text-align: right;\n",
       "    }\n",
       "</style>\n",
       "<table border=\"1\" class=\"dataframe\">\n",
       "  <thead>\n",
       "    <tr style=\"text-align: right;\">\n",
       "      <th></th>\n",
       "      <th>Song</th>\n",
       "      <th>Artist</th>\n",
       "      <th>Last week Rank</th>\n",
       "      <th>Peak Rank</th>\n",
       "      <th>Weeks on board</th>\n",
       "    </tr>\n",
       "  </thead>\n",
       "  <tbody>\n",
       "  </tbody>\n",
       "</table>\n",
       "</div>"
      ],
      "text/plain": [
       "Empty DataFrame\n",
       "Columns: [Song, Artist, Last week Rank, Peak Rank, Weeks on board]\n",
       "Index: []"
      ]
     },
     "execution_count": 77,
     "metadata": {},
     "output_type": "execute_result"
    }
   ],
   "source": [
    "#Creating a dataframe for the scrapped data\n",
    "billboard=pd.DataFrame({'Song':Song,'Artist':Artist,'Last week Rank':Lastweek,'Peak Rank':Peak,'Weeks on board':Weeks_on_board})\n",
    "billboard"
   ]
  },
  {
   "cell_type": "code",
   "execution_count": 78,
   "id": "058ac506",
   "metadata": {},
   "outputs": [],
   "source": [
    "#Closing the driver\n",
    "driver.close()"
   ]
  },
  {
   "cell_type": "markdown",
   "id": "c05cb937",
   "metadata": {},
   "source": [
    "7.Scrape the details of Data science recruiters from naukri.com.\n",
    "\n",
    "Url = https://www.naukri.com/\n",
    "\n",
    "You have to find the following details:\n",
    "\n",
    "A) Name\n",
    "\n",
    "B) Designation\n",
    "\n",
    "C) Company\n",
    "\n",
    "D) Skills they hire for\n",
    "\n",
    "E) Location\n",
    "\n",
    "Note: - From naukri.com homepage click on the recruiters option and the on the search pane type Data science and click on search. All this should be done through code\n",
    "\n"
   ]
  },
  {
   "cell_type": "code",
   "execution_count": 79,
   "id": "33631d11",
   "metadata": {},
   "outputs": [
    {
     "name": "stderr",
     "output_type": "stream",
     "text": [
      "<ipython-input-79-311fccbdc7ca>:1: DeprecationWarning: executable_path has been deprecated, please pass in a Service object\n",
      "  driver = webdriver.Chrome('Chromedriver.exe')\n"
     ]
    }
   ],
   "source": [
    "driver = webdriver.Chrome('Chromedriver.exe')"
   ]
  },
  {
   "cell_type": "code",
   "execution_count": 80,
   "id": "4d15414d",
   "metadata": {},
   "outputs": [],
   "source": [
    "driver.get('https://www.naukri.com/')"
   ]
  },
  {
   "cell_type": "code",
   "execution_count": 84,
   "id": "5b500f4a",
   "metadata": {},
   "outputs": [
    {
     "name": "stderr",
     "output_type": "stream",
     "text": [
      "<ipython-input-84-9c4c5517a62d>:9: DeprecationWarning: find_elements_by_xpath is deprecated. Please use find_elements(by=By.XPATH, value=xpath) instead\n",
      "  name=driver.find_elements_by_xpath(\"//span[@class='fl ellipsis']\")\n",
      "<ipython-input-84-9c4c5517a62d>:14: DeprecationWarning: find_elements_by_xpath is deprecated. Please use find_elements(by=By.XPATH, value=xpath) instead\n",
      "  desc=driver.find_elements_by_xpath(\"//span[@class='ellipsis clr']\")\n",
      "<ipython-input-84-9c4c5517a62d>:19: DeprecationWarning: find_elements_by_xpath is deprecated. Please use find_elements(by=By.XPATH, value=xpath) instead\n",
      "  company=driver.find_elements_by_xpath(\"//p[@class='highlightable']/a[2]\")\n",
      "<ipython-input-84-9c4c5517a62d>:24: DeprecationWarning: find_elements_by_xpath is deprecated. Please use find_elements(by=By.XPATH, value=xpath) instead\n",
      "  skills=driver.find_elements_by_xpath(\"//div[@class='hireSec highlightable']\")\n",
      "<ipython-input-84-9c4c5517a62d>:29: DeprecationWarning: find_elements_by_xpath is deprecated. Please use find_elements(by=By.XPATH, value=xpath) instead\n",
      "  location=driver.find_elements_by_xpath(\"//small[@class='ellipsis']\")\n"
     ]
    }
   ],
   "source": [
    "#Creating empty lists for storing the scrapped data\n",
    "Name=[]\n",
    "Designation=[]\n",
    "Company=[]\n",
    "Skills=[]\n",
    "Location=[]\n",
    "\n",
    "#Scrapping the data having the recruiter's name\n",
    "name=driver.find_elements_by_xpath(\"//span[@class='fl ellipsis']\")\n",
    "for i in name:\n",
    "    Name.append(i.text)\n",
    "    \n",
    "#Scrapping the data having the recruiter's designation\n",
    "desc=driver.find_elements_by_xpath(\"//span[@class='ellipsis clr']\")\n",
    "for i in desc:\n",
    "    Designation.append(i.text)\n",
    "    \n",
    "#Scrapping the data having company name\n",
    "company=driver.find_elements_by_xpath(\"//p[@class='highlightable']/a[2]\")\n",
    "for i in company:\n",
    "    Company.append(i.text)\n",
    "    \n",
    "#Scrapping the data having the skillset details\n",
    "skills=driver.find_elements_by_xpath(\"//div[@class='hireSec highlightable']\")\n",
    "for i in skills:\n",
    "    Skills.append(i.text)\n",
    "    \n",
    "#Scrapping the data having the location details\n",
    "location=driver.find_elements_by_xpath(\"//small[@class='ellipsis']\")\n",
    "for i in location:\n",
    "    Location.append(i.text) "
   ]
  },
  {
   "cell_type": "code",
   "execution_count": 85,
   "id": "62efc70e",
   "metadata": {},
   "outputs": [
    {
     "name": "stdout",
     "output_type": "stream",
     "text": [
      "0 0 0 0 0\n"
     ]
    }
   ],
   "source": [
    "#Checking the length of the scrapped data\n",
    "print(len(Name),len(Designation),len(Company),len(Skills),len(Location))"
   ]
  },
  {
   "cell_type": "code",
   "execution_count": 86,
   "id": "9d327055",
   "metadata": {},
   "outputs": [
    {
     "data": {
      "text/html": [
       "<div>\n",
       "<style scoped>\n",
       "    .dataframe tbody tr th:only-of-type {\n",
       "        vertical-align: middle;\n",
       "    }\n",
       "\n",
       "    .dataframe tbody tr th {\n",
       "        vertical-align: top;\n",
       "    }\n",
       "\n",
       "    .dataframe thead th {\n",
       "        text-align: right;\n",
       "    }\n",
       "</style>\n",
       "<table border=\"1\" class=\"dataframe\">\n",
       "  <thead>\n",
       "    <tr style=\"text-align: right;\">\n",
       "      <th></th>\n",
       "      <th>Name</th>\n",
       "      <th>Designation</th>\n",
       "      <th>Company</th>\n",
       "      <th>Skills</th>\n",
       "      <th>Location</th>\n",
       "    </tr>\n",
       "  </thead>\n",
       "  <tbody>\n",
       "  </tbody>\n",
       "</table>\n",
       "</div>"
      ],
      "text/plain": [
       "Empty DataFrame\n",
       "Columns: [Name, Designation, Company, Skills, Location]\n",
       "Index: []"
      ]
     },
     "execution_count": 86,
     "metadata": {},
     "output_type": "execute_result"
    }
   ],
   "source": [
    "#Creating a dataframe for the scrapped data\n",
    "naukri=pd.DataFrame({})\n",
    "naukri['Name']=Name[:48]\n",
    "naukri['Designation']=Designation[:48]\n",
    "naukri['Company']=Company[:48]\n",
    "naukri['Skills']=Skills[:48]\n",
    "naukri['Location']=Location\n",
    "naukri"
   ]
  },
  {
   "cell_type": "code",
   "execution_count": null,
   "id": "f17708c3",
   "metadata": {},
   "outputs": [],
   "source": []
  }
 ],
 "metadata": {
  "kernelspec": {
   "display_name": "Python 3",
   "language": "python",
   "name": "python3"
  }
 },
 "nbformat": 4,
 "nbformat_minor": 5
}
